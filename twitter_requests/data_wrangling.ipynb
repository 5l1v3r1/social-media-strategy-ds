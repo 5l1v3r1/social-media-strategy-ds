{
 "cells": [
  {
   "cell_type": "code",
   "execution_count": 9,
   "metadata": {},
   "outputs": [],
   "source": [
    "import json \n",
    "import os\n",
    "import tweepy\n",
    "\n",
    "import plotly.express as px\n",
    "import pandas as pd\n",
    "from dotenv import load_dotenv"
   ]
  },
  {
   "cell_type": "code",
   "execution_count": null,
   "metadata": {},
   "outputs": [],
   "source": []
  },
  {
   "cell_type": "code",
   "execution_count": 10,
   "metadata": {},
   "outputs": [
    {
     "name": "stdout",
     "output_type": "stream",
     "text": [
      "AUTH <tweepy.auth.OAuthHandler object at 0x119117a10>\n",
      "API <tweepy.api.API object at 0x118e77f50>\n"
     ]
    }
   ],
   "source": [
    "load_dotenv()\n",
    "\n",
    "TWITTER_API_KEY = os.getenv(\"TWITTER_API_KEY\")\n",
    "TWITTER_API_SECRET = os.getenv(\"TWITTER_API_SECRET\")\n",
    "TWITTER_ACCESS_TOKEN = os.getenv(\"TWITTER_ACCESS_TOKEN\")\n",
    "TWITTER_ACCESS_TOKEN_SECRET = os.getenv(\"TWITTER_ACCESS_TOKEN_SECRET\")\n",
    "\n",
    "auth = tweepy.OAuthHandler(TWITTER_API_KEY, TWITTER_API_SECRET)\n",
    "auth.set_access_token(TWITTER_ACCESS_TOKEN, TWITTER_ACCESS_TOKEN_SECRET)\n",
    "print(\"AUTH\", auth)\n",
    "api = tweepy.API(auth, wait_on_rate_limit=True)\n",
    "print(\"API\", api)\n",
    "#print(dir(api))"
   ]
  },
  {
   "cell_type": "code",
   "execution_count": 11,
   "metadata": {},
   "outputs": [],
   "source": [
    "chrisalbon_followers = api.followers_ids('chrisalbon')"
   ]
  },
  {
   "cell_type": "code",
   "execution_count": 4,
   "metadata": {},
   "outputs": [],
   "source": [
    "# Lets see the favorites of this user in a pretty JSON format\n",
    "\n",
    "public_tweets = api.favorites(id='1429084760')\n",
    "\n",
    "for tweet in range(len(public_tweets)):\n",
    "    status = public_tweets[tweet]\n",
    "\n",
    "    #convert to string\n",
    "    \n",
    "    json_str = json.dumps(status._json)\n",
    "    \n",
    "    #deserialise string into python object\n",
    "    parsed = json.loads(json_str)\n",
    "    \n",
    "    parsed.get('created_at')  # Gets us the times the tweets were created, or liked? I think liked\n",
    "\n",
    "    #print(json.dumps(parsed, indent=4, sort_keys=True))   # entire information from the get request into a organized json."
   ]
  },
  {
   "cell_type": "code",
   "execution_count": 12,
   "metadata": {},
   "outputs": [],
   "source": [
    "class data_wrangling:\n",
    "\n",
    "    api = tweepy.API(auth, wait_on_rate_limit=True)    \n",
    "    \n",
    "    def __init__(self, user_id, follower_count=10):\n",
    "        self.user_id = user_id\n",
    "        self.follower_count = follower_count\n",
    "\n",
    "    # The first 10 ids of the user's followers\n",
    "    def followers_ids(self):\n",
    "        followers_ids = api.followers_ids(self.user_id)\n",
    "        return followers_ids\n",
    "\n",
    "    def hours_mins(self, followers_ids):\n",
    "\n",
    "        l = []\n",
    "\n",
    "        # Loop through the first 10 followers\n",
    "        for followers in followers_ids[:10]:\n",
    "\n",
    "            # Try and excepts statement to bipass an error that arises when we call a protected user's information\n",
    "            try:\n",
    "\n",
    "                favorited_tweets = api.favorites(id=f'{followers}')\n",
    "\n",
    "\n",
    "                # Fir each tweet that the follower liked, lets add it to the l string    \n",
    "                for tweet in range(len(favorited_tweets)):\n",
    "\n",
    "                    status = favorited_tweets[tweet]\n",
    "\n",
    "                    #convert to string\n",
    "                    json_str = json.dumps(status._json)\n",
    "\n",
    "                    #deserialise string into python object\n",
    "                    parsed = json.loads(json_str)\n",
    "                    l.append(parsed.get('created_at'))\n",
    "\n",
    "            except tweepy.TweepError:\n",
    "\n",
    "                pass\n",
    "\n",
    "\n",
    "        hours, mins, secs = [int(i[11:13]) for i in l], [int(i[14:16]) for i in l], [int(i[17:19]) for i in l]\n",
    "\n",
    "        x = pd.DataFrame(data={'hours': hours, 'mins':mins, 'secs': secs})\n",
    "        # Returns a list of the the times that each user liked the last 20 things they liked.\n",
    "        return x\n",
    "    \n",
    "    \n",
    "    def text_content(self, followers_ids):\n",
    "\n",
    "        l = []\n",
    "\n",
    "        # Loop through the first 10 followers\n",
    "        for followers in followers_ids[:10]:\n",
    "\n",
    "            # Try and excepts statement to bipass an error that arises when we call a protected user's information\n",
    "            try:\n",
    "\n",
    "                favorited_tweets = api.favorites(id=f'{followers}')\n",
    "\n",
    "\n",
    "                # Fir each tweet that the follower liked, lets add it to the l string    \n",
    "                for tweet in range(len(favorited_tweets)):\n",
    "\n",
    "                    status = favorited_tweets[tweet]\n",
    "\n",
    "                    #convert to string\n",
    "                    json_str = json.dumps(status._json)\n",
    "\n",
    "                    #deserialise string into python object\n",
    "                    parsed = json.loads(json_str)\n",
    "                    l.append(parsed.get('text'))\n",
    "\n",
    "            except tweepy.TweepError:\n",
    "\n",
    "                pass\n",
    "        \n",
    "        return l "
   ]
  },
  {
   "cell_type": "code",
   "execution_count": 13,
   "metadata": {},
   "outputs": [
    {
     "data": {
      "text/plain": [
       "(163, 163)"
      ]
     },
     "execution_count": 13,
     "metadata": {},
     "output_type": "execute_result"
    }
   ],
   "source": [
    "dw = data_wrangling('chrisalbon', 10)\n",
    "fi = dw.followers_ids()\n",
    "hours_mins = dw.hours_mins(fi)\n",
    "text_content = dw.text_content(fi)\n",
    "len(text_content), len(hours_mins)"
   ]
  },
  {
   "cell_type": "code",
   "execution_count": null,
   "metadata": {},
   "outputs": [],
   "source": [
    "fig = px.bar(hours_mins, x='hours', y='mins')\n",
    "fig.show()"
   ]
  },
  {
   "cell_type": "code",
   "execution_count": null,
   "metadata": {},
   "outputs": [],
   "source": []
  },
  {
   "cell_type": "code",
   "execution_count": null,
   "metadata": {},
   "outputs": [],
   "source": [
    "date_times_chris = datetimes(chris_follower_ids)"
   ]
  },
  {
   "cell_type": "code",
   "execution_count": null,
   "metadata": {},
   "outputs": [],
   "source": [
    "date_times_chris"
   ]
  },
  {
   "cell_type": "code",
   "execution_count": null,
   "metadata": {},
   "outputs": [],
   "source": [
    "fig = px.bar(date_times_chris, x='hours', y='mins')\n",
    "fig.show()"
   ]
  }
 ],
 "metadata": {
  "kernelspec": {
   "display_name": "sms_tweet (Python 3)",
   "language": "python",
   "name": "sms_flask"
  },
  "language_info": {
   "codemirror_mode": {
    "name": "ipython",
    "version": 3
   },
   "file_extension": ".py",
   "mimetype": "text/x-python",
   "name": "python",
   "nbconvert_exporter": "python",
   "pygments_lexer": "ipython3",
   "version": "3.7.5"
  }
 },
 "nbformat": 4,
 "nbformat_minor": 4
}
