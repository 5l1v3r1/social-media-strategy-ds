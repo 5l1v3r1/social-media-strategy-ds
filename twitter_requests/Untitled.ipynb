{
 "cells": [
  {
   "cell_type": "code",
   "execution_count": 70,
   "metadata": {},
   "outputs": [],
   "source": [
    "import json \n",
    "import os\n",
    "import tweepy\n",
    "\n",
    "import plotly.express as px\n",
    "import pandas as pd\n",
    "from dotenv import load_dotenv"
   ]
  },
  {
   "cell_type": "code",
   "execution_count": 2,
   "metadata": {},
   "outputs": [],
   "source": [
    "load_dotenv()\n",
    "\n",
    "TWITTER_API_KEY = os.getenv(\"TWITTER_API_KEY\")\n",
    "TWITTER_API_SECRET = os.getenv(\"TWITTER_API_SECRET\")\n",
    "TWITTER_ACCESS_TOKEN = os.getenv(\"TWITTER_ACCESS_TOKEN\")\n",
    "TWITTER_ACCESS_TOKEN_SECRET = os.getenv(\"TWITTER_ACCESS_TOKEN_SECRET\")"
   ]
  },
  {
   "cell_type": "code",
   "execution_count": 3,
   "metadata": {},
   "outputs": [
    {
     "name": "stdout",
     "output_type": "stream",
     "text": [
      "AUTH <tweepy.auth.OAuthHandler object at 0x10455e450>\n",
      "API <tweepy.api.API object at 0x10455e590>\n"
     ]
    }
   ],
   "source": [
    "auth = tweepy.OAuthHandler(TWITTER_API_KEY, TWITTER_API_SECRET)\n",
    "auth.set_access_token(TWITTER_ACCESS_TOKEN, TWITTER_ACCESS_TOKEN_SECRET)\n",
    "print(\"AUTH\", auth)\n",
    "api = tweepy.API(auth, wait_on_rate_limit=True)\n",
    "print(\"API\", api)\n",
    "#print(dir(api))"
   ]
  },
  {
   "cell_type": "code",
   "execution_count": 4,
   "metadata": {},
   "outputs": [],
   "source": [
    "chrisalbon_followers = api.followers_ids('chrisalbon')"
   ]
  },
  {
   "cell_type": "code",
   "execution_count": 5,
   "metadata": {},
   "outputs": [
    {
     "data": {
      "text/plain": [
       "5000"
      ]
     },
     "execution_count": 5,
     "metadata": {},
     "output_type": "execute_result"
    }
   ],
   "source": [
    "# Calling the .followers_ids() method gives us the first 5000 followers of the user.\n",
    "\n",
    "len(chrisalbon_followers)"
   ]
  },
  {
   "cell_type": "code",
   "execution_count": 6,
   "metadata": {},
   "outputs": [
    {
     "data": {
      "text/plain": [
       "[4283909061,\n",
       " 183104923,\n",
       " 225648595,\n",
       " 15265988,\n",
       " 74172431,\n",
       " 38427292,\n",
       " 721490718351499264,\n",
       " 731271345175179264,\n",
       " 794396769178161153,\n",
       " 782204784]"
      ]
     },
     "execution_count": 6,
     "metadata": {},
     "output_type": "execute_result"
    }
   ],
   "source": [
    "# The first 10 ids of Chris Albon's followers\n",
    "\n",
    "chrisalbon_followers[:10]"
   ]
  },
  {
   "cell_type": "code",
   "execution_count": 7,
   "metadata": {},
   "outputs": [],
   "source": [
    "# Shows all of the content of the .favorites request. \n",
    "\n",
    "# api.favorites(id='181923035')"
   ]
  },
  {
   "cell_type": "code",
   "execution_count": 8,
   "metadata": {},
   "outputs": [],
   "source": [
    "# Lets see the favorites of this user in a pretty JSON format\n",
    "\n",
    "public_tweets = api.favorites(id='1429084760')\n",
    "\n",
    "for tweet in range(len(public_tweets)):\n",
    "    status = public_tweets[tweet]\n",
    "\n",
    "    #convert to string\n",
    "    \n",
    "    json_str = json.dumps(status._json)\n",
    "    \n",
    "    #deserialise string into python object\n",
    "    parsed = json.loads(json_str)\n",
    "    \n",
    "    parsed.get('created_at')  # Gets us the times the tweets were created, or liked? I think liked\n",
    "\n",
    "#     print(json.dumps(parsed, indent=4, sort_keys=True))   # entire information from the get request into a organized json."
   ]
  },
  {
   "cell_type": "code",
   "execution_count": 34,
   "metadata": {},
   "outputs": [],
   "source": [
    "# Function to get the times our users liked content.\n",
    "\n",
    "def followers_from_id(follower_id):\n",
    "    \n",
    "    l = []\n",
    "    \n",
    "    # Loop through the first 10 followers\n",
    "    for followers in follower_id[20:30]:\n",
    "        \n",
    "        \n",
    "        # Try and excepts statement to bipass an error that arises when we call a protected user's information\n",
    "        try:\n",
    "            \n",
    "            favorited_tweets = api.favorites(id=f'{followers}')\n",
    "        \n",
    "            \n",
    "            # Fir each tweet that the follower liked, lets add it to the l string    \n",
    "            for tweet in range(len(favorited_tweets)):\n",
    "\n",
    "                status = favorited_tweets[tweet]\n",
    "\n",
    "                #convert to string\n",
    "                json_str = json.dumps(status._json)\n",
    "\n",
    "                #deserialise string into python object\n",
    "                parsed = json.loads(json_str)\n",
    "                l.append(parsed.get('created_at'))\n",
    "\n",
    "        except tweepy.TweepError:\n",
    "            \n",
    "            pass\n",
    "    \n",
    "#     list_times = [i[11:19] for i in l]\n",
    "    \n",
    "    # Returns a list of the the times that each user liked the last 20 things they liked.\n",
    "    return l"
   ]
  },
  {
   "cell_type": "code",
   "execution_count": 17,
   "metadata": {},
   "outputs": [
    {
     "data": {
      "text/plain": [
       "(10, 20)"
      ]
     },
     "execution_count": 17,
     "metadata": {},
     "output_type": "execute_result"
    }
   ],
   "source": [
    "len(api.followers_ids('chrisalbon')[:10]), len(api.favorites(id=1429084760))"
   ]
  },
  {
   "cell_type": "code",
   "execution_count": 41,
   "metadata": {},
   "outputs": [
    {
     "data": {
      "text/plain": [
       "160"
      ]
     },
     "execution_count": 41,
     "metadata": {},
     "output_type": "execute_result"
    }
   ],
   "source": [
    "# returns the timestamps for the past 20 things liked by 10 of the user's followers. \n",
    "\n",
    "chris_follower_ids = api.followers_ids('chrisalbon')\n",
    "\n",
    "test = followers_from_id(chris_follower_ids)\n",
    "len(test)"
   ]
  },
  {
   "cell_type": "code",
   "execution_count": 156,
   "metadata": {},
   "outputs": [],
   "source": [
    "# Function to get the times our users liked content.\n",
    "\n",
    "def datetimes(follower_id):\n",
    "    \n",
    "    l = []\n",
    "    \n",
    "    # Loop through the first 10 followers\n",
    "    for followers in follower_id[20:30]:\n",
    "        \n",
    "        \n",
    "        # Try and excepts statement to bipass an error that arises when we call a protected user's information\n",
    "        try:\n",
    "            \n",
    "            favorited_tweets = api.favorites(id=f'{followers}')\n",
    "        \n",
    "            \n",
    "            # Fir each tweet that the follower liked, lets add it to the l string    \n",
    "            for tweet in range(len(favorited_tweets)):\n",
    "\n",
    "                status = favorited_tweets[tweet]\n",
    "\n",
    "                #convert to string\n",
    "                json_str = json.dumps(status._json)\n",
    "\n",
    "                #deserialise string into python object\n",
    "                parsed = json.loads(json_str)\n",
    "                l.append(parsed.get('created_at'))\n",
    "\n",
    "        except tweepy.TweepError:\n",
    "            \n",
    "            pass\n",
    "        \n",
    "    #list_times = [int(i[11:19]) for i in l]\n",
    "\n",
    "    hours = [int(i[11:13]) for i in l]\n",
    "    mins = [int(i[14:16]) for i in l]\n",
    "    secs = [int(i[17:19]) for i in l]\n",
    "\n",
    "    x = pd.DataFrame(data={'hours': hours, 'mins':mins, 'secs': secs})\n",
    "    # Returns a list of the the times that each user liked the last 20 things they liked.\n",
    "    return x"
   ]
  },
  {
   "cell_type": "code",
   "execution_count": 157,
   "metadata": {},
   "outputs": [],
   "source": [
    "date_times_chris = datetimes(chris_follower_ids)"
   ]
  },
  {
   "cell_type": "code",
   "execution_count": 158,
   "metadata": {},
   "outputs": [
    {
     "data": {
      "text/html": [
       "<div>\n",
       "<style scoped>\n",
       "    .dataframe tbody tr th:only-of-type {\n",
       "        vertical-align: middle;\n",
       "    }\n",
       "\n",
       "    .dataframe tbody tr th {\n",
       "        vertical-align: top;\n",
       "    }\n",
       "\n",
       "    .dataframe thead th {\n",
       "        text-align: right;\n",
       "    }\n",
       "</style>\n",
       "<table border=\"1\" class=\"dataframe\">\n",
       "  <thead>\n",
       "    <tr style=\"text-align: right;\">\n",
       "      <th></th>\n",
       "      <th>hours</th>\n",
       "      <th>mins</th>\n",
       "      <th>secs</th>\n",
       "    </tr>\n",
       "  </thead>\n",
       "  <tbody>\n",
       "    <tr>\n",
       "      <th>0</th>\n",
       "      <td>11</td>\n",
       "      <td>35</td>\n",
       "      <td>00</td>\n",
       "    </tr>\n",
       "    <tr>\n",
       "      <th>1</th>\n",
       "      <td>20</td>\n",
       "      <td>40</td>\n",
       "      <td>17</td>\n",
       "    </tr>\n",
       "    <tr>\n",
       "      <th>2</th>\n",
       "      <td>20</td>\n",
       "      <td>40</td>\n",
       "      <td>16</td>\n",
       "    </tr>\n",
       "    <tr>\n",
       "      <th>3</th>\n",
       "      <td>20</td>\n",
       "      <td>39</td>\n",
       "      <td>24</td>\n",
       "    </tr>\n",
       "    <tr>\n",
       "      <th>4</th>\n",
       "      <td>20</td>\n",
       "      <td>39</td>\n",
       "      <td>24</td>\n",
       "    </tr>\n",
       "    <tr>\n",
       "      <th>...</th>\n",
       "      <td>...</td>\n",
       "      <td>...</td>\n",
       "      <td>...</td>\n",
       "    </tr>\n",
       "    <tr>\n",
       "      <th>155</th>\n",
       "      <td>04</td>\n",
       "      <td>15</td>\n",
       "      <td>54</td>\n",
       "    </tr>\n",
       "    <tr>\n",
       "      <th>156</th>\n",
       "      <td>03</td>\n",
       "      <td>34</td>\n",
       "      <td>42</td>\n",
       "    </tr>\n",
       "    <tr>\n",
       "      <th>157</th>\n",
       "      <td>00</td>\n",
       "      <td>53</td>\n",
       "      <td>29</td>\n",
       "    </tr>\n",
       "    <tr>\n",
       "      <th>158</th>\n",
       "      <td>00</td>\n",
       "      <td>41</td>\n",
       "      <td>25</td>\n",
       "    </tr>\n",
       "    <tr>\n",
       "      <th>159</th>\n",
       "      <td>21</td>\n",
       "      <td>29</td>\n",
       "      <td>39</td>\n",
       "    </tr>\n",
       "  </tbody>\n",
       "</table>\n",
       "<p>160 rows × 3 columns</p>\n",
       "</div>"
      ],
      "text/plain": [
       "    hours mins secs\n",
       "0      11   35   00\n",
       "1      20   40   17\n",
       "2      20   40   16\n",
       "3      20   39   24\n",
       "4      20   39   24\n",
       "..    ...  ...  ...\n",
       "155    04   15   54\n",
       "156    03   34   42\n",
       "157    00   53   29\n",
       "158    00   41   25\n",
       "159    21   29   39\n",
       "\n",
       "[160 rows x 3 columns]"
      ]
     },
     "execution_count": 158,
     "metadata": {},
     "output_type": "execute_result"
    }
   ],
   "source": [
    "date_times_chris"
   ]
  },
  {
   "cell_type": "code",
   "execution_count": 159,
   "metadata": {},
   "outputs": [
    {
     "ename": "ValueError",
     "evalue": "Mime type rendering requires nbformat>=4.2.0 but it is not installed",
     "output_type": "error",
     "traceback": [
      "\u001b[0;31m---------------------------------------------------------------------------\u001b[0m",
      "\u001b[0;31mValueError\u001b[0m                                Traceback (most recent call last)",
      "\u001b[0;32m<ipython-input-159-d68e9e6b59e3>\u001b[0m in \u001b[0;36m<module>\u001b[0;34m\u001b[0m\n\u001b[1;32m      1\u001b[0m \u001b[0mfig\u001b[0m \u001b[0;34m=\u001b[0m \u001b[0mpx\u001b[0m\u001b[0;34m.\u001b[0m\u001b[0mline\u001b[0m\u001b[0;34m(\u001b[0m\u001b[0mdate_times_chris\u001b[0m\u001b[0;34m,\u001b[0m \u001b[0mx\u001b[0m\u001b[0;34m=\u001b[0m\u001b[0;34m'hours'\u001b[0m\u001b[0;34m,\u001b[0m \u001b[0my\u001b[0m\u001b[0;34m=\u001b[0m\u001b[0;34m'mins'\u001b[0m\u001b[0;34m)\u001b[0m\u001b[0;34m\u001b[0m\u001b[0;34m\u001b[0m\u001b[0m\n\u001b[0;32m----> 2\u001b[0;31m \u001b[0mfig\u001b[0m\u001b[0;34m.\u001b[0m\u001b[0mshow\u001b[0m\u001b[0;34m(\u001b[0m\u001b[0;34m)\u001b[0m\u001b[0;34m\u001b[0m\u001b[0;34m\u001b[0m\u001b[0m\n\u001b[0m",
      "\u001b[0;32m/Applications/anaconda3/envs/sms_flask/lib/python3.7/site-packages/plotly/basedatatypes.py\u001b[0m in \u001b[0;36mshow\u001b[0;34m(self, *args, **kwargs)\u001b[0m\n\u001b[1;32m   2792\u001b[0m         \u001b[0;32mimport\u001b[0m \u001b[0mplotly\u001b[0m\u001b[0;34m.\u001b[0m\u001b[0mio\u001b[0m \u001b[0;32mas\u001b[0m \u001b[0mpio\u001b[0m\u001b[0;34m\u001b[0m\u001b[0;34m\u001b[0m\u001b[0m\n\u001b[1;32m   2793\u001b[0m \u001b[0;34m\u001b[0m\u001b[0m\n\u001b[0;32m-> 2794\u001b[0;31m         \u001b[0;32mreturn\u001b[0m \u001b[0mpio\u001b[0m\u001b[0;34m.\u001b[0m\u001b[0mshow\u001b[0m\u001b[0;34m(\u001b[0m\u001b[0mself\u001b[0m\u001b[0;34m,\u001b[0m \u001b[0;34m*\u001b[0m\u001b[0margs\u001b[0m\u001b[0;34m,\u001b[0m \u001b[0;34m**\u001b[0m\u001b[0mkwargs\u001b[0m\u001b[0;34m)\u001b[0m\u001b[0;34m\u001b[0m\u001b[0;34m\u001b[0m\u001b[0m\n\u001b[0m\u001b[1;32m   2795\u001b[0m \u001b[0;34m\u001b[0m\u001b[0m\n\u001b[1;32m   2796\u001b[0m     \u001b[0;32mdef\u001b[0m \u001b[0mto_json\u001b[0m\u001b[0;34m(\u001b[0m\u001b[0mself\u001b[0m\u001b[0;34m,\u001b[0m \u001b[0;34m*\u001b[0m\u001b[0margs\u001b[0m\u001b[0;34m,\u001b[0m \u001b[0;34m**\u001b[0m\u001b[0mkwargs\u001b[0m\u001b[0;34m)\u001b[0m\u001b[0;34m:\u001b[0m\u001b[0;34m\u001b[0m\u001b[0;34m\u001b[0m\u001b[0m\n",
      "\u001b[0;32m/Applications/anaconda3/envs/sms_flask/lib/python3.7/site-packages/plotly/io/_renderers.py\u001b[0m in \u001b[0;36mshow\u001b[0;34m(fig, renderer, validate, **kwargs)\u001b[0m\n\u001b[1;32m    383\u001b[0m         \u001b[0;32mif\u001b[0m \u001b[0;32mnot\u001b[0m \u001b[0mnbformat\u001b[0m \u001b[0;32mor\u001b[0m \u001b[0mLooseVersion\u001b[0m\u001b[0;34m(\u001b[0m\u001b[0mnbformat\u001b[0m\u001b[0;34m.\u001b[0m\u001b[0m__version__\u001b[0m\u001b[0;34m)\u001b[0m \u001b[0;34m<\u001b[0m \u001b[0mLooseVersion\u001b[0m\u001b[0;34m(\u001b[0m\u001b[0;34m\"4.2.0\"\u001b[0m\u001b[0;34m)\u001b[0m\u001b[0;34m:\u001b[0m\u001b[0;34m\u001b[0m\u001b[0;34m\u001b[0m\u001b[0m\n\u001b[1;32m    384\u001b[0m             raise ValueError(\n\u001b[0;32m--> 385\u001b[0;31m                 \u001b[0;34m\"Mime type rendering requires nbformat>=4.2.0 but it is not installed\"\u001b[0m\u001b[0;34m\u001b[0m\u001b[0;34m\u001b[0m\u001b[0m\n\u001b[0m\u001b[1;32m    386\u001b[0m             )\n\u001b[1;32m    387\u001b[0m \u001b[0;34m\u001b[0m\u001b[0m\n",
      "\u001b[0;31mValueError\u001b[0m: Mime type rendering requires nbformat>=4.2.0 but it is not installed"
     ]
    }
   ],
   "source": [
    "fig = px.line(date_times_chris, x='hours', y='mins')\n",
    "fig.show()"
   ]
  },
  {
   "cell_type": "code",
   "execution_count": null,
   "metadata": {},
   "outputs": [],
   "source": [
    "print(len(test))\n",
    "test"
   ]
  },
  {
   "cell_type": "code",
   "execution_count": 24,
   "metadata": {},
   "outputs": [
    {
     "data": {
      "text/plain": [
       "['14:45:36',\n",
       " '17:46:43',\n",
       " '17:05:20',\n",
       " '03:19:15',\n",
       " '13:58:39',\n",
       " '11:53:22',\n",
       " '17:04:59',\n",
       " '15:57:25',\n",
       " '22:26:22',\n",
       " '03:33:15',\n",
       " '17:16:49',\n",
       " '21:49:57',\n",
       " '16:08:23',\n",
       " '01:45:10',\n",
       " '17:00:22',\n",
       " '15:51:26',\n",
       " '03:56:51',\n",
       " '00:33:18',\n",
       " '18:40:26',\n",
       " '22:17:13',\n",
       " '21:29:13',\n",
       " '12:05:16',\n",
       " '22:11:20',\n",
       " '19:02:38',\n",
       " '23:12:22',\n",
       " '23:09:06',\n",
       " '16:40:57',\n",
       " '15:47:39',\n",
       " '15:22:01',\n",
       " '12:19:33',\n",
       " '21:13:36',\n",
       " '20:38:59',\n",
       " '20:02:20',\n",
       " '18:48:50',\n",
       " '18:22:38',\n",
       " '16:25:15',\n",
       " '16:23:36',\n",
       " '15:17:22',\n",
       " '11:58:12',\n",
       " '03:05:35',\n",
       " '02:44:11',\n",
       " '02:37:46',\n",
       " '19:21:26',\n",
       " '18:00:29',\n",
       " '16:57:10',\n",
       " '15:32:33',\n",
       " '15:15:12',\n",
       " '14:54:25',\n",
       " '14:16:55',\n",
       " '13:40:49',\n",
       " '06:00:00',\n",
       " '05:51:28',\n",
       " '04:47:21',\n",
       " '02:55:16',\n",
       " '01:56:39',\n",
       " '01:54:26',\n",
       " '01:45:03',\n",
       " '01:07:26',\n",
       " '00:48:41',\n",
       " '22:37:10',\n",
       " '14:33:22',\n",
       " '06:56:48',\n",
       " '00:47:56',\n",
       " '22:14:14',\n",
       " '17:49:37',\n",
       " '16:05:10',\n",
       " '16:45:18',\n",
       " '02:58:58',\n",
       " '01:35:44',\n",
       " '21:31:21',\n",
       " '12:29:59',\n",
       " '02:04:18',\n",
       " '20:10:35',\n",
       " '18:40:11',\n",
       " '04:15:54',\n",
       " '03:34:42',\n",
       " '00:53:29',\n",
       " '00:41:25',\n",
       " '21:29:39',\n",
       " '04:09:07',\n",
       " '02:37:43',\n",
       " '01:01:53',\n",
       " '22:55:56',\n",
       " '21:30:46',\n",
       " '18:17:09',\n",
       " '01:21:01',\n",
       " '18:22:39',\n",
       " '15:07:39',\n",
       " '03:45:26',\n",
       " '15:35:29',\n",
       " '21:18:52',\n",
       " '23:46:53',\n",
       " '18:20:35',\n",
       " '17:04:44',\n",
       " '02:24:27',\n",
       " '01:37:19',\n",
       " '23:59:21',\n",
       " '21:10:41',\n",
       " '18:15:11',\n",
       " '03:46:33',\n",
       " '00:26:58',\n",
       " '17:19:27',\n",
       " '12:53:42',\n",
       " '11:52:39',\n",
       " '19:07:58',\n",
       " '21:24:17',\n",
       " '20:08:18',\n",
       " '17:34:05',\n",
       " '17:34:04',\n",
       " '00:52:12',\n",
       " '17:38:36',\n",
       " '15:26:45',\n",
       " '15:22:47',\n",
       " '12:31:17',\n",
       " '11:24:43',\n",
       " '03:02:59',\n",
       " '21:20:16',\n",
       " '19:12:50',\n",
       " '18:43:43',\n",
       " '09:22:29',\n",
       " '09:15:06',\n",
       " '22:13:04',\n",
       " '17:00:02',\n",
       " '10:46:36',\n",
       " '10:30:52',\n",
       " '09:10:04',\n",
       " '16:12:00',\n",
       " '13:17:19',\n",
       " '10:52:18',\n",
       " '10:50:32',\n",
       " '09:00:00',\n",
       " '09:00:00',\n",
       " '20:21:00',\n",
       " '09:38:13',\n",
       " '19:33:19',\n",
       " '18:03:56',\n",
       " '14:59:10',\n",
       " '14:59:09',\n",
       " '14:59:09',\n",
       " '22:34:45',\n",
       " '14:26:30',\n",
       " '13:47:59',\n",
       " '17:07:36',\n",
       " '19:58:03',\n",
       " '19:53:58',\n",
       " '19:25:24',\n",
       " '13:18:41',\n",
       " '12:19:57',\n",
       " '10:53:44',\n",
       " '12:09:30',\n",
       " '15:25:03',\n",
       " '08:40:12',\n",
       " '22:09:11',\n",
       " '06:38:09',\n",
       " '10:44:03',\n",
       " '22:17:32',\n",
       " '20:57:08',\n",
       " '00:00:51',\n",
       " '21:56:52',\n",
       " '09:00:27',\n",
       " '08:17:15',\n",
       " '08:10:39',\n",
       " '08:03:19',\n",
       " '07:58:29',\n",
       " '07:18:14',\n",
       " '07:11:00',\n",
       " '06:33:55',\n",
       " '05:56:11',\n",
       " '04:53:26',\n",
       " '04:50:20',\n",
       " '04:20:15',\n",
       " '03:47:55',\n",
       " '03:47:31',\n",
       " '03:35:14',\n",
       " '03:15:29',\n",
       " '02:47:31',\n",
       " '02:44:21',\n",
       " '01:50:28',\n",
       " '11:16:22',\n",
       " '08:58:32',\n",
       " '21:22:33',\n",
       " '18:26:54',\n",
       " '17:58:14',\n",
       " '14:57:00',\n",
       " '16:53:58',\n",
       " '12:53:32',\n",
       " '10:49:35',\n",
       " '07:27:44',\n",
       " '02:08:58',\n",
       " '11:10:33',\n",
       " '08:37:20',\n",
       " '11:58:44',\n",
       " '16:19:38',\n",
       " '11:37:45',\n",
       " '22:22:48',\n",
       " '20:33:40',\n",
       " '04:47:11']"
      ]
     },
     "execution_count": 24,
     "metadata": {},
     "output_type": "execute_result"
    }
   ],
   "source": [
    "_list = [i[11:19] for i in test]\n",
    "_list"
   ]
  },
  {
   "cell_type": "code",
   "execution_count": null,
   "metadata": {},
   "outputs": [],
   "source": [
    "# Len - remember, we won't have a perfect 200 (20 liked times x 10 users) because we are skipping\n",
    "# the information that is protected\n",
    "\n",
    "len(test)"
   ]
  },
  {
   "cell_type": "code",
   "execution_count": null,
   "metadata": {},
   "outputs": [],
   "source": [
    "test"
   ]
  },
  {
   "cell_type": "code",
   "execution_count": null,
   "metadata": {},
   "outputs": [],
   "source": [
    "type(favorited_tweets)"
   ]
  },
  {
   "cell_type": "code",
   "execution_count": null,
   "metadata": {},
   "outputs": [],
   "source": [
    "l = []\n",
    "for followers in chris_follower_ids[:20]:\n",
    "    favorited_tweets = api.favorites(id=f'{followers}')\n",
    "    for tweet in range(len(favorited_tweets)):\n",
    "        status = favorited_tweets[tweet]\n",
    "\n",
    "        #convert to string\n",
    "        json_str = json.dumps(status._json)\n",
    "\n",
    "        #deserialise string into python object\n",
    "        parsed = json.loads(json_str)\n",
    "        l.append(parsed.get('created_at'))"
   ]
  },
  {
   "cell_type": "code",
   "execution_count": null,
   "metadata": {},
   "outputs": [],
   "source": [
    "len(l)"
   ]
  },
  {
   "cell_type": "code",
   "execution_count": null,
   "metadata": {},
   "outputs": [],
   "source": [
    "public_tweets = api.followers('chrisalbon')\n",
    "# for tweet in public_tweets:\n",
    "#     print(tweet)\n",
    "\n",
    "import json \n",
    "for tweet in range(len(public_tweets)):\n",
    "    status = public_tweets[tweet]\n",
    "\n",
    "    #convert to string\n",
    "    json_str = json.dumps(status._json)\n",
    "\n",
    "    #deserialise string into python object\n",
    "    parsed = json.loads(json_str)\n",
    "    \n",
    "    l.append(parsed)\n",
    "#     print(json.dumps(parsed, indent=4, sort_keys=True))"
   ]
  },
  {
   "cell_type": "code",
   "execution_count": null,
   "metadata": {},
   "outputs": [],
   "source": [
    "len(l)"
   ]
  },
  {
   "cell_type": "code",
   "execution_count": null,
   "metadata": {},
   "outputs": [],
   "source": [
    "def list_of_followers(list):\n",
    "    x = []\n",
    "    for i in list:\n",
    "        y = dict(i).get('screen_name')\n",
    "        x.append(y)"
   ]
  },
  {
   "cell_type": "code",
   "execution_count": null,
   "metadata": {},
   "outputs": [],
   "source": [
    "list_of_followers(l)"
   ]
  },
  {
   "cell_type": "code",
   "execution_count": null,
   "metadata": {},
   "outputs": [],
   "source": []
  },
  {
   "cell_type": "code",
   "execution_count": null,
   "metadata": {},
   "outputs": [],
   "source": []
  },
  {
   "cell_type": "code",
   "execution_count": null,
   "metadata": {},
   "outputs": [],
   "source": []
  }
 ],
 "metadata": {
  "kernelspec": {
   "display_name": "sms_tweet (Python 3)",
   "language": "python",
   "name": "sms_flask"
  },
  "language_info": {
   "codemirror_mode": {
    "name": "ipython",
    "version": 3
   },
   "file_extension": ".py",
   "mimetype": "text/x-python",
   "name": "python",
   "nbconvert_exporter": "python",
   "pygments_lexer": "ipython3",
   "version": "3.7.5"
  }
 },
 "nbformat": 4,
 "nbformat_minor": 4
}
