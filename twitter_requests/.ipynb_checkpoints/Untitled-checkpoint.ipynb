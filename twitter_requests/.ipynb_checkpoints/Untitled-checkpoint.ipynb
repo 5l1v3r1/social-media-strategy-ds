{
 "cells": [
  {
   "cell_type": "code",
   "execution_count": 57,
   "metadata": {},
   "outputs": [],
   "source": [
    "import json \n",
    "import os\n",
    "import tweepy\n",
    "\n",
    "from dotenv import load_dotenv"
   ]
  },
  {
   "cell_type": "code",
   "execution_count": 58,
   "metadata": {},
   "outputs": [],
   "source": [
    "load_dotenv()\n",
    "\n",
    "TWITTER_API_KEY = os.getenv(\"TWITTER_API_KEY\")\n",
    "TWITTER_API_SECRET = os.getenv(\"TWITTER_API_SECRET\")\n",
    "TWITTER_ACCESS_TOKEN = os.getenv(\"TWITTER_ACCESS_TOKEN\")\n",
    "TWITTER_ACCESS_TOKEN_SECRET = os.getenv(\"TWITTER_ACCESS_TOKEN_SECRET\")"
   ]
  },
  {
   "cell_type": "code",
   "execution_count": 59,
   "metadata": {},
   "outputs": [
    {
     "name": "stdout",
     "output_type": "stream",
     "text": [
      "AUTH <tweepy.auth.OAuthHandler object at 0x1110cb210>\n",
      "API <tweepy.api.API object at 0x1110cbd90>\n"
     ]
    }
   ],
   "source": [
    "auth = tweepy.OAuthHandler(TWITTER_API_KEY, TWITTER_API_SECRET)\n",
    "auth.set_access_token(TWITTER_ACCESS_TOKEN, TWITTER_ACCESS_TOKEN_SECRET)\n",
    "print(\"AUTH\", auth)\n",
    "api = tweepy.API(auth, wait_on_rate_limit=True)\n",
    "print(\"API\", api)\n",
    "#print(dir(api))"
   ]
  },
  {
   "cell_type": "code",
   "execution_count": 60,
   "metadata": {},
   "outputs": [],
   "source": [
    "chrisalbon_followers = api.followers_ids('chrisalbon')"
   ]
  },
  {
   "cell_type": "code",
   "execution_count": 76,
   "metadata": {},
   "outputs": [
    {
     "data": {
      "text/plain": [
       "5000"
      ]
     },
     "execution_count": 76,
     "metadata": {},
     "output_type": "execute_result"
    }
   ],
   "source": [
    "# Calling the .followers_ids() method gives us the first 5000 followers of the user.\n",
    "\n",
    "len(chrisalbon_followers)"
   ]
  },
  {
   "cell_type": "code",
   "execution_count": 61,
   "metadata": {},
   "outputs": [
    {
     "data": {
      "text/plain": [
       "[181923035,\n",
       " 1169697419426222080,\n",
       " 146575733,\n",
       " 830167866313994245,\n",
       " 4023455271,\n",
       " 3041704497,\n",
       " 1107249169964646400,\n",
       " 14144766,\n",
       " 498354720,\n",
       " 1214562376529432576]"
      ]
     },
     "execution_count": 61,
     "metadata": {},
     "output_type": "execute_result"
    }
   ],
   "source": [
    "# The first 10 ids of Chris Albon's followers\n",
    "\n",
    "chrisalbon_followers[:10]"
   ]
  },
  {
   "cell_type": "code",
   "execution_count": 64,
   "metadata": {},
   "outputs": [],
   "source": [
    "# Shows all of the content of the .favorites request. \n",
    "\n",
    "# api.favorites(id='181923035')"
   ]
  },
  {
   "cell_type": "code",
   "execution_count": 67,
   "metadata": {},
   "outputs": [],
   "source": [
    "# Lets see the favorites of this user in a pretty JSON format\n",
    "\n",
    "public_tweets = api.favorites(id='1429084760')\n",
    "\n",
    "for tweet in range(len(public_tweets)):\n",
    "    status = public_tweets[tweet]\n",
    "\n",
    "    #convert to string\n",
    "    \n",
    "    json_str = json.dumps(status._json)\n",
    "    \n",
    "    #deserialise string into python object\n",
    "    parsed = json.loads(json_str)\n",
    "    \n",
    "    parsed.get('created_at')  # Gets us the times the tweets were created, or liked? I think liked\n",
    "\n",
    "    print(json.dumps(parsed, indent=4, sort_keys=True))   # entire information from the get request into a organized json."
   ]
  },
  {
   "cell_type": "code",
   "execution_count": 71,
   "metadata": {},
   "outputs": [],
   "source": [
    "# Function to get the times our users liked content.\n",
    "\n",
    "def followers_from_id(follower_id):\n",
    "    \n",
    "    l = []\n",
    "    \n",
    "    # Loop through the first 10 followers\n",
    "    for followers in follower_id[:10]:\n",
    "        \n",
    "        \n",
    "        # Try and excepts statement to bipass an error that arises when we call a protected user's information\n",
    "        try:\n",
    "            \n",
    "            favorited_tweets = api.favorites(id=f'{followers}')\n",
    "        \n",
    "        except tweepy.TweepError:\n",
    "            \n",
    "            pass\n",
    "            \n",
    "        # Fir each tweet that the follower liked, lets add it to the l string    \n",
    "        for tweet in range(len(favorited_tweets)):\n",
    "\n",
    "            status = favorited_tweets[tweet]\n",
    "\n",
    "            #convert to string\n",
    "            json_str = json.dumps(status._json)\n",
    "\n",
    "            #deserialise string into python object\n",
    "            parsed = json.loads(json_str)\n",
    "            l.append(parsed.get('created_at'))\n",
    "\n",
    "    \n",
    "    # Returns a list of the the times that each user liked the last 20 things they liked.\n",
    "    return l"
   ]
  },
  {
   "cell_type": "code",
   "execution_count": 72,
   "metadata": {},
   "outputs": [
    {
     "data": {
      "text/plain": [
       "(10, 20)"
      ]
     },
     "execution_count": 72,
     "metadata": {},
     "output_type": "execute_result"
    }
   ],
   "source": [
    "len(api.followers_ids('chrisalbon')[:10]), len(api.favorites(id=1429084760))"
   ]
  },
  {
   "cell_type": "code",
   "execution_count": 73,
   "metadata": {},
   "outputs": [],
   "source": [
    "# returns the timestamps for the past 20 things liked by 10 of the user's followers. \n",
    "\n",
    "single_chris_follower_ids = api.followers_ids('chrisalbon')\n",
    "\n",
    "test = followers_from_id(single_chris_follower_ids)\n",
    "test"
   ]
  },
  {
   "cell_type": "code",
   "execution_count": 74,
   "metadata": {},
   "outputs": [
    {
     "data": {
      "text/plain": [
       "150"
      ]
     },
     "execution_count": 74,
     "metadata": {},
     "output_type": "execute_result"
    }
   ],
   "source": [
    "# Len - remember, we won't have a perfect 200 (20 liked times x 10 users) because we are skipping\n",
    "# the information that is protected\n",
    "\n",
    "len(test)"
   ]
  },
  {
   "cell_type": "code",
   "execution_count": 75,
   "metadata": {},
   "outputs": [
    {
     "data": {
      "text/plain": [
       "['Wed Mar 25 11:00:15 +0000 2020',\n",
       " 'Wed Mar 25 07:26:07 +0000 2020',\n",
       " 'Tue Mar 24 10:39:14 +0000 2020',\n",
       " 'Tue Mar 24 03:40:39 +0000 2020',\n",
       " 'Tue Mar 24 02:48:00 +0000 2020',\n",
       " 'Mon Mar 23 15:31:54 +0000 2020',\n",
       " 'Mon Mar 23 10:04:58 +0000 2020',\n",
       " 'Mon Mar 23 09:24:14 +0000 2020',\n",
       " 'Mon Mar 23 07:44:38 +0000 2020',\n",
       " 'Mon Mar 23 05:17:09 +0000 2020',\n",
       " 'Mon Mar 23 04:07:27 +0000 2020',\n",
       " 'Mon Mar 23 02:23:06 +0000 2020',\n",
       " 'Sun Mar 22 20:53:21 +0000 2020',\n",
       " 'Sun Mar 22 11:34:44 +0000 2020',\n",
       " 'Sun Mar 22 05:57:16 +0000 2020',\n",
       " 'Sat Mar 21 22:42:41 +0000 2020',\n",
       " 'Sat Mar 21 20:46:02 +0000 2020',\n",
       " 'Sat Mar 21 12:40:34 +0000 2020',\n",
       " 'Sat Mar 21 10:11:54 +0000 2020',\n",
       " 'Sat Mar 21 07:49:05 +0000 2020',\n",
       " 'Mon Mar 02 06:04:36 +0000 2020',\n",
       " 'Tue Feb 18 17:39:59 +0000 2020',\n",
       " 'Sun Feb 09 23:10:59 +0000 2020',\n",
       " 'Sat Feb 08 12:53:57 +0000 2020',\n",
       " 'Mon Feb 03 22:29:35 +0000 2020',\n",
       " 'Fri Dec 20 16:37:05 +0000 2019',\n",
       " 'Thu Dec 19 20:22:05 +0000 2019',\n",
       " 'Thu Dec 19 14:42:43 +0000 2019',\n",
       " 'Wed Dec 18 14:42:20 +0000 2019',\n",
       " 'Tue Dec 17 14:53:07 +0000 2019',\n",
       " 'Wed Mar 25 08:41:12 +0000 2020',\n",
       " 'Wed Mar 25 07:18:05 +0000 2020',\n",
       " 'Tue Mar 24 18:01:49 +0000 2020',\n",
       " 'Tue Mar 24 15:56:24 +0000 2020',\n",
       " 'Tue Mar 24 12:10:22 +0000 2020',\n",
       " 'Tue Mar 24 08:16:37 +0000 2020',\n",
       " 'Sun Mar 22 15:55:47 +0000 2020',\n",
       " 'Sun Mar 22 12:58:30 +0000 2020',\n",
       " 'Sun Mar 22 11:57:02 +0000 2020',\n",
       " 'Sun Mar 22 08:47:52 +0000 2020',\n",
       " 'Fri Mar 20 08:17:20 +0000 2020',\n",
       " 'Thu Mar 19 17:19:06 +0000 2020',\n",
       " 'Thu Mar 19 04:51:04 +0000 2020',\n",
       " 'Tue Mar 17 17:08:51 +0000 2020',\n",
       " 'Sun Mar 01 16:15:47 +0000 2020',\n",
       " 'Sun Mar 01 13:38:38 +0000 2020',\n",
       " 'Sun Mar 01 12:34:12 +0000 2020',\n",
       " 'Sun Mar 01 03:57:51 +0000 2020',\n",
       " 'Fri Feb 28 18:09:10 +0000 2020',\n",
       " 'Wed Aug 15 13:42:21 +0000 2018',\n",
       " 'Mon Mar 23 19:41:26 +0000 2020',\n",
       " 'Sun Mar 22 20:59:51 +0000 2020',\n",
       " 'Sun Mar 22 13:51:33 +0000 2020',\n",
       " 'Fri Mar 20 21:46:43 +0000 2020',\n",
       " 'Fri Mar 20 16:41:23 +0000 2020',\n",
       " 'Wed Mar 18 12:27:20 +0000 2020',\n",
       " 'Tue Mar 17 06:20:52 +0000 2020',\n",
       " 'Sat Mar 14 00:14:46 +0000 2020',\n",
       " 'Fri Mar 13 19:20:18 +0000 2020',\n",
       " 'Mon Mar 09 09:57:24 +0000 2020',\n",
       " 'Tue Mar 03 22:45:38 +0000 2020',\n",
       " 'Thu Jan 09 20:19:27 +0000 2020',\n",
       " 'Mon Jun 17 04:34:58 +0000 2019',\n",
       " 'Sat Mar 16 12:43:55 +0000 2019',\n",
       " 'Sun Mar 10 17:29:08 +0000 2019',\n",
       " 'Thu Feb 28 21:35:45 +0000 2019',\n",
       " 'Thu Feb 28 16:51:48 +0000 2019',\n",
       " 'Mon Feb 25 19:32:01 +0000 2019',\n",
       " 'Mon Feb 25 19:25:10 +0000 2019',\n",
       " 'Thu Mar 12 22:34:09 +0000 2020',\n",
       " 'Thu Mar 05 18:52:26 +0000 2020',\n",
       " 'Thu Mar 05 18:23:13 +0000 2020',\n",
       " 'Mon Mar 02 04:59:19 +0000 2020',\n",
       " 'Mon Mar 02 01:20:52 +0000 2020',\n",
       " 'Thu Feb 27 20:06:23 +0000 2020',\n",
       " 'Fri Feb 21 16:02:14 +0000 2020',\n",
       " 'Tue Feb 18 16:21:46 +0000 2020',\n",
       " 'Mon Feb 17 18:57:22 +0000 2020',\n",
       " 'Mon Feb 17 18:29:36 +0000 2020',\n",
       " 'Mon Feb 17 17:07:39 +0000 2020',\n",
       " 'Sun Feb 16 16:34:04 +0000 2020',\n",
       " 'Tue Feb 11 18:03:27 +0000 2020',\n",
       " 'Thu Feb 06 16:55:13 +0000 2020',\n",
       " 'Thu Feb 06 13:00:50 +0000 2020',\n",
       " 'Tue Feb 04 23:03:11 +0000 2020',\n",
       " 'Tue Feb 04 08:44:44 +0000 2020',\n",
       " 'Wed Jan 29 21:58:40 +0000 2020',\n",
       " 'Tue Jan 28 13:07:17 +0000 2020',\n",
       " 'Tue Jan 28 03:11:08 +0000 2020',\n",
       " 'Tue Feb 18 13:24:46 +0000 2020',\n",
       " 'Wed Mar 25 15:48:36 +0000 2020',\n",
       " 'Wed Mar 25 11:45:29 +0000 2020',\n",
       " 'Wed Mar 25 09:32:00 +0000 2020',\n",
       " 'Wed Mar 25 09:24:51 +0000 2020',\n",
       " 'Tue Mar 24 19:25:09 +0000 2020',\n",
       " 'Tue Mar 24 18:25:57 +0000 2020',\n",
       " 'Tue Mar 24 13:55:31 +0000 2020',\n",
       " 'Tue Mar 24 13:42:13 +0000 2020',\n",
       " 'Tue Mar 24 11:54:12 +0000 2020',\n",
       " 'Tue Mar 24 11:43:14 +0000 2020',\n",
       " 'Tue Mar 24 10:44:38 +0000 2020',\n",
       " 'Tue Mar 24 10:43:46 +0000 2020',\n",
       " 'Tue Mar 24 07:39:56 +0000 2020',\n",
       " 'Mon Mar 23 20:50:04 +0000 2020',\n",
       " 'Mon Mar 23 20:48:07 +0000 2020',\n",
       " 'Mon Mar 23 20:23:57 +0000 2020',\n",
       " 'Mon Mar 23 15:36:09 +0000 2020',\n",
       " 'Mon Mar 23 13:54:50 +0000 2020',\n",
       " 'Mon Mar 23 12:41:50 +0000 2020',\n",
       " 'Sun Mar 22 21:27:29 +0000 2020',\n",
       " 'Wed Mar 25 14:56:11 +0000 2020',\n",
       " 'Tue Mar 24 15:49:55 +0000 2020',\n",
       " 'Tue Mar 24 15:38:28 +0000 2020',\n",
       " 'Mon Mar 23 15:55:18 +0000 2020',\n",
       " 'Sun Mar 22 17:08:42 +0000 2020',\n",
       " 'Sat Mar 21 16:35:36 +0000 2020',\n",
       " 'Fri Mar 20 01:02:13 +0000 2020',\n",
       " 'Sat Mar 14 16:43:29 +0000 2020',\n",
       " 'Thu Mar 12 14:59:59 +0000 2020',\n",
       " 'Wed Mar 11 18:52:09 +0000 2020',\n",
       " 'Wed Mar 11 16:17:56 +0000 2020',\n",
       " 'Thu Aug 08 13:16:16 +0000 2019',\n",
       " 'Sun Nov 26 23:41:13 +0000 2017',\n",
       " 'Fri Nov 24 20:02:21 +0000 2017',\n",
       " 'Sun Nov 19 18:12:34 +0000 2017',\n",
       " 'Sun Nov 19 14:04:02 +0000 2017',\n",
       " 'Sat Nov 18 19:14:16 +0000 2017',\n",
       " 'Sat Nov 18 04:09:58 +0000 2017',\n",
       " 'Thu Nov 16 10:40:06 +0000 2017',\n",
       " 'Thu Nov 16 10:19:29 +0000 2017',\n",
       " 'Wed Mar 25 04:45:36 +0000 2020',\n",
       " 'Wed Mar 25 02:15:08 +0000 2020',\n",
       " 'Wed Mar 25 02:06:09 +0000 2020',\n",
       " 'Wed Mar 25 01:41:21 +0000 2020',\n",
       " 'Wed Mar 25 01:15:08 +0000 2020',\n",
       " 'Wed Mar 25 01:02:30 +0000 2020',\n",
       " 'Wed Mar 25 00:41:44 +0000 2020',\n",
       " 'Wed Mar 25 00:09:36 +0000 2020',\n",
       " 'Tue Mar 24 23:09:01 +0000 2020',\n",
       " 'Tue Mar 24 23:02:49 +0000 2020',\n",
       " 'Tue Mar 24 20:12:28 +0000 2020',\n",
       " 'Tue Mar 24 16:20:21 +0000 2020',\n",
       " 'Tue Mar 24 16:00:42 +0000 2020',\n",
       " 'Tue Mar 24 15:15:10 +0000 2020',\n",
       " 'Tue Mar 24 15:08:31 +0000 2020',\n",
       " 'Tue Mar 24 14:56:00 +0000 2020',\n",
       " 'Tue Mar 24 14:10:35 +0000 2020',\n",
       " 'Tue Mar 24 13:55:49 +0000 2020',\n",
       " 'Tue Mar 24 13:30:33 +0000 2020',\n",
       " 'Tue Mar 24 13:22:30 +0000 2020']"
      ]
     },
     "execution_count": 75,
     "metadata": {},
     "output_type": "execute_result"
    }
   ],
   "source": [
    "test"
   ]
  },
  {
   "cell_type": "code",
   "execution_count": null,
   "metadata": {},
   "outputs": [],
   "source": [
    "type(favorited_tweets)"
   ]
  },
  {
   "cell_type": "code",
   "execution_count": null,
   "metadata": {},
   "outputs": [],
   "source": [
    "l = []\n",
    "for followers in chris_follower_ids[:20]:\n",
    "    favorited_tweets = api.favorites(id=f'{followers}')\n",
    "    for tweet in range(len(favorited_tweets)):\n",
    "        status = favorited_tweets[tweet]\n",
    "\n",
    "        #convert to string\n",
    "        json_str = json.dumps(status._json)\n",
    "\n",
    "        #deserialise string into python object\n",
    "        parsed = json.loads(json_str)\n",
    "        l.append(parsed.get('created_at'))"
   ]
  },
  {
   "cell_type": "code",
   "execution_count": null,
   "metadata": {},
   "outputs": [],
   "source": [
    "len(l)"
   ]
  },
  {
   "cell_type": "code",
   "execution_count": null,
   "metadata": {},
   "outputs": [],
   "source": [
    "public_tweets = api.followers('chrisalbon')\n",
    "# for tweet in public_tweets:\n",
    "#     print(tweet)\n",
    "\n",
    "import json \n",
    "for tweet in range(len(public_tweets)):\n",
    "    status = public_tweets[tweet]\n",
    "\n",
    "    #convert to string\n",
    "    json_str = json.dumps(status._json)\n",
    "\n",
    "    #deserialise string into python object\n",
    "    parsed = json.loads(json_str)\n",
    "    \n",
    "    l.append(parsed)\n",
    "#     print(json.dumps(parsed, indent=4, sort_keys=True))"
   ]
  },
  {
   "cell_type": "code",
   "execution_count": null,
   "metadata": {},
   "outputs": [],
   "source": [
    "len(l)"
   ]
  },
  {
   "cell_type": "code",
   "execution_count": null,
   "metadata": {},
   "outputs": [],
   "source": [
    "def list_of_followers(list):\n",
    "    x = []\n",
    "    for i in list:\n",
    "        y = dict(i).get('screen_name')\n",
    "        x.append(y)"
   ]
  },
  {
   "cell_type": "code",
   "execution_count": null,
   "metadata": {},
   "outputs": [],
   "source": [
    "list_of_followers(l)"
   ]
  },
  {
   "cell_type": "code",
   "execution_count": null,
   "metadata": {},
   "outputs": [],
   "source": []
  },
  {
   "cell_type": "code",
   "execution_count": null,
   "metadata": {},
   "outputs": [],
   "source": []
  },
  {
   "cell_type": "code",
   "execution_count": null,
   "metadata": {},
   "outputs": [],
   "source": []
  }
 ],
 "metadata": {
  "kernelspec": {
   "display_name": "sms_tweet (Python 3)",
   "language": "python",
   "name": "sms_flask"
  },
  "language_info": {
   "codemirror_mode": {
    "name": "ipython",
    "version": 3
   },
   "file_extension": ".py",
   "mimetype": "text/x-python",
   "name": "python",
   "nbconvert_exporter": "python",
   "pygments_lexer": "ipython3",
   "version": "3.7.5"
  }
 },
 "nbformat": 4,
 "nbformat_minor": 4
}
