{
 "cells": [
  {
   "cell_type": "code",
   "execution_count": 3,
   "metadata": {},
   "outputs": [],
   "source": [
    "import GetOldTweets3 as got"
   ]
  },
  {
   "cell_type": "code",
   "execution_count": 4,
   "metadata": {},
   "outputs": [
    {
     "ename": "ModuleNotFoundError",
     "evalue": "No module named 'sklearn'",
     "output_type": "error",
     "traceback": [
      "\u001b[0;31m---------------------------------------------------------------------------\u001b[0m",
      "\u001b[0;31mModuleNotFoundError\u001b[0m                       Traceback (most recent call last)",
      "\u001b[0;32m<ipython-input-4-996f15284944>\u001b[0m in \u001b[0;36m<module>\u001b[0;34m\u001b[0m\n\u001b[0;32m----> 1\u001b[0;31m \u001b[0;32mimport\u001b[0m \u001b[0msklearn\u001b[0m\u001b[0;34m.\u001b[0m\u001b[0mdecomposition\u001b[0m\u001b[0;34m\u001b[0m\u001b[0;34m\u001b[0m\u001b[0m\n\u001b[0m",
      "\u001b[0;31mModuleNotFoundError\u001b[0m: No module named 'sklearn'"
     ]
    }
   ],
   "source": [
    "import sklearn.decomposition"
   ]
  },
  {
   "cell_type": "code",
   "execution_count": 2,
   "metadata": {},
   "outputs": [],
   "source": [
    "twitter_user_name = 'LambdaSchool'\n",
    "count = 20 # very small for efficiency during testing"
   ]
  },
  {
   "cell_type": "code",
   "execution_count": 3,
   "metadata": {},
   "outputs": [],
   "source": [
    "#  Create object to execute queries\n",
    "querySpecs = got.manager.TweetCriteria().setUsername(twitter_user_name).setMaxTweets(count)"
   ]
  },
  {
   "cell_type": "code",
   "execution_count": 4,
   "metadata": {},
   "outputs": [],
   "source": [
    "retrieved_tweets = got.manager.TweetManager.getTweets(querySpecs)"
   ]
  },
  {
   "cell_type": "code",
   "execution_count": 5,
   "metadata": {},
   "outputs": [],
   "source": [
    "# type(retrieved_tweets)"
   ]
  },
  {
   "cell_type": "code",
   "execution_count": 6,
   "metadata": {},
   "outputs": [],
   "source": [
    "test_tweet = retrieved_tweets[1]\n",
    "# type(test_tweet.urls)\n",
    "# \n",
    "# dir (test_tweet)"
   ]
  },
  {
   "cell_type": "code",
   "execution_count": 7,
   "metadata": {},
   "outputs": [],
   "source": [
    "def tweet_to_dict(twt):\n",
    "    \"\"\"Munges a twt object into a dict, using names of attributes of\n",
    "    object as keys in dict.\n",
    "    'favorites' is a count of 'likes'\n",
    "    'hashtags' is a string that is a space-separated series of hashtags\n",
    "    'mentions' is a string that is a space-separated series of ats (@s)\n",
    "    'urls' is a string that is a space-separated series of URLs\n",
    "    \"\"\"\n",
    "    return {'date' : twt.date\n",
    "            , 'favorites' : twt.favorites\n",
    "            , 'formatted_date' : twt.formatted_date\n",
    "            , 'geo' : twt.geo\n",
    "            , 'hashtags' : twt.hashtags\n",
    "            , 'id' : twt.id\n",
    "            , 'mentions' : twt.mentions\n",
    "            , 'permalink' : twt.permalink\n",
    "            , 'replies' : twt.replies\n",
    "            , 'retweets' : twt.retweets\n",
    "            , 'text' : twt.text\n",
    "            , 'to' : twt.to\n",
    "            , 'urls' : twt.urls\n",
    "            , 'username' : twt.username}   "
   ]
  },
  {
   "cell_type": "code",
   "execution_count": 8,
   "metadata": {},
   "outputs": [
    {
     "data": {
      "text/plain": [
       "{'year': 2020,\n",
       " 'month': 4,\n",
       " 'day': 13,\n",
       " 'day_of_week': 0,\n",
       " 'hour': 23,\n",
       " 'minute': 0,\n",
       " 'minute_of_day': 1380}"
      ]
     },
     "execution_count": 8,
     "metadata": {},
     "output_type": "execute_result"
    }
   ],
   "source": [
    "def munge_date(dt):\n",
    "    \"\"\"Munges a datetime.datetime object into a dict, using names of attributes of\n",
    "    object as keys in dict.\n",
    "    'day_of_week' is [0-7] with 0 being 'Monday'\n",
    "    'minute_of_day' is count of minutes from midnight\"\"\"\n",
    "    return {'year' : dt.year \n",
    "            , 'month' : dt.month\n",
    "            , 'day' : dt.day\n",
    "            , 'day_of_week' : dt.weekday()\n",
    "            , 'hour' : dt.hour\n",
    "            , 'minute' : dt.minute\n",
    "            , 'minute_of_day' : (60 * dt.hour) + dt.minute}\n",
    "munge_date(test_tweet.date)"
   ]
  },
  {
   "cell_type": "code",
   "execution_count": 9,
   "metadata": {},
   "outputs": [
    {
     "data": {
      "text/plain": [
       "{'date': datetime.datetime(2020, 4, 13, 23, 0, 16, tzinfo=datetime.timezone.utc),\n",
       " 'favorites': 20,\n",
       " 'formatted_date': 'Mon Apr 13 23:00:16 +0000 2020',\n",
       " 'geo': '',\n",
       " 'hashtags': '#RemoteLearning #Remote',\n",
       " 'id': '1249834817878986753',\n",
       " 'mentions': '',\n",
       " 'permalink': 'https://twitter.com/LambdaSchool/status/1249834817878986753',\n",
       " 'replies': 0,\n",
       " 'retweets': 3,\n",
       " 'text': 'For large online lectures of 50+ students, how do you make sure everyone has a good experience? Josh Knell, Head of Instruction at Lambda School, will be tackling this question via Zoom next Wednesday. Register: https://bit.ly/3a4BghW #RemoteLearning #Remote',\n",
       " 'to': None,\n",
       " 'urls': 'https://bit.ly/3a4BghW',\n",
       " 'username': 'LambdaSchool',\n",
       " 'year': 2020,\n",
       " 'month': 4,\n",
       " 'day': 13,\n",
       " 'day_of_week': 0,\n",
       " 'hour': 23,\n",
       " 'minute': 0,\n",
       " 'minute_of_day': 1380}"
      ]
     },
     "execution_count": 9,
     "metadata": {},
     "output_type": "execute_result"
    }
   ],
   "source": [
    "def join_dicts(twt):\n",
    "    return {**tweet_to_dict(twt), **munge_date(twt.date)}\n",
    "\n",
    "join_dicts(test_tweet)"
   ]
  },
  {
   "cell_type": "code",
   "execution_count": 10,
   "metadata": {},
   "outputs": [],
   "source": [
    "### Utilities to make operations on lists less cumbersome.\n",
    "\n",
    "def remove_duplicates_from_list(l):\n",
    "    \"\"\"Stupid Python does not have this.\"\"\"\n",
    "    return list(set(l))\n",
    "\n",
    "def mapcar(func, lst):\n",
    "    \"\"\"Stupid Python does not have mapcar.\"\"\"\n",
    "    return list(map(func, lst))\n",
    "\n",
    "def flatten_lists_one_layer(ls):\n",
    "    from functools import reduce\n",
    "    \"\"\"Stupid Python does not have a built-in function to \n",
    "    join an arbitrary list of lists into one list.\"\"\"\n",
    "    return reduce(lambda accumulator, element: accumulator + element, ls, [])\n",
    "\n",
    "def join_list_of_dicts(dicts):\n",
    "    \"\"\"This is good. Thanks, Python!\"\"\"\n",
    "    return {key: val for dict in dicts for key, val in dict.items()}\n",
    " "
   ]
  },
  {
   "cell_type": "code",
   "execution_count": 11,
   "metadata": {},
   "outputs": [],
   "source": [
    "# def list_of_tweets_hashtags(tweet_object):\n",
    "#     \"\"\"NAIVE: assumes 'hashtags' is already a space-delimited\n",
    "#     string of hashtags.\"\"\"\n",
    "#     return tweet_object.hashtags.split()\n",
    "\n",
    "# def list_of_tweets_mentions(tweet_object):\n",
    "#     \"\"\"NAIVE: assumes 'mentions' is already a space-delimited\n",
    "#     string of @phrases.\"\"\"\n",
    "#     return tweet_object.mentions.split()\n",
    "\n",
    "# def list_of_tweets_hashtags_from_set_of_tweets (set_of_tws):\n",
    "#     return remove_duplicates_from_list(\n",
    "#             flatten_lists_one_layer(\n",
    "#                 mapcar(\n",
    "#                     list_of_tweets_hashtags, set_of_tws)))\n",
    "\n",
    "# def list_of_tweets_mentions_from_set_of_tweets (set_of_tws):\n",
    "#     return remove_duplicates_from_list(\n",
    "#             flatten_lists_one_layer(\n",
    "#                 mapcar(\n",
    "#                     list_of_tweets_mentions, set_of_tws)))\n",
    "\n",
    "# list_of_tweets_mentions_from_set_of_tweets(retrieved_tweets)"
   ]
  },
  {
   "cell_type": "code",
   "execution_count": 12,
   "metadata": {},
   "outputs": [],
   "source": [
    "import pandas as pd\n",
    "# import dictionary as dataframe\n",
    "# drop useless columns\n",
    "\n",
    "recs = list(map(join_dicts, retrieved_tweets))\n",
    "\n",
    "index_col_name = 'id'\n",
    "\n",
    "useless_columns = ['date', 'formatted_date', 'permalink', 'username', 'hour', 'minute', 'geo']\n",
    "\n",
    "df = pd.DataFrame.from_records(recs, index=index_col_name, exclude=useless_columns)"
   ]
  },
  {
   "cell_type": "code",
   "execution_count": 13,
   "metadata": {},
   "outputs": [
    {
     "data": {
      "text/html": [
       "<div>\n",
       "<style scoped>\n",
       "    .dataframe tbody tr th:only-of-type {\n",
       "        vertical-align: middle;\n",
       "    }\n",
       "\n",
       "    .dataframe tbody tr th {\n",
       "        vertical-align: top;\n",
       "    }\n",
       "\n",
       "    .dataframe thead th {\n",
       "        text-align: right;\n",
       "    }\n",
       "</style>\n",
       "<table border=\"1\" class=\"dataframe\">\n",
       "  <thead>\n",
       "    <tr style=\"text-align: right;\">\n",
       "      <th></th>\n",
       "      <th>favorites</th>\n",
       "      <th>hashtags</th>\n",
       "      <th>mentions</th>\n",
       "      <th>replies</th>\n",
       "      <th>retweets</th>\n",
       "      <th>text</th>\n",
       "      <th>to</th>\n",
       "      <th>urls</th>\n",
       "      <th>year</th>\n",
       "      <th>month</th>\n",
       "      <th>day</th>\n",
       "      <th>day_of_week</th>\n",
       "      <th>minute_of_day</th>\n",
       "    </tr>\n",
       "    <tr>\n",
       "      <th>id</th>\n",
       "      <th></th>\n",
       "      <th></th>\n",
       "      <th></th>\n",
       "      <th></th>\n",
       "      <th></th>\n",
       "      <th></th>\n",
       "      <th></th>\n",
       "      <th></th>\n",
       "      <th></th>\n",
       "      <th></th>\n",
       "      <th></th>\n",
       "      <th></th>\n",
       "      <th></th>\n",
       "    </tr>\n",
       "  </thead>\n",
       "  <tbody>\n",
       "    <tr>\n",
       "      <th>1250084165405597702</th>\n",
       "      <td>16</td>\n",
       "      <td>#hired #SeeYourselfAtLambda</td>\n",
       "      <td>@Fidelity @ryanallred @rrherr @Jon_Cody_</td>\n",
       "      <td>0</td>\n",
       "      <td>2</td>\n",
       "      <td>Congrats to Lambda grad Oscar Calzada for gett...</td>\n",
       "      <td>None</td>\n",
       "      <td></td>\n",
       "      <td>2020</td>\n",
       "      <td>4</td>\n",
       "      <td>14</td>\n",
       "      <td>1</td>\n",
       "      <td>931</td>\n",
       "    </tr>\n",
       "    <tr>\n",
       "      <th>1249834817878986753</th>\n",
       "      <td>20</td>\n",
       "      <td>#RemoteLearning #Remote</td>\n",
       "      <td></td>\n",
       "      <td>0</td>\n",
       "      <td>3</td>\n",
       "      <td>For large online lectures of 50+ students, how...</td>\n",
       "      <td>None</td>\n",
       "      <td>https://bit.ly/3a4BghW</td>\n",
       "      <td>2020</td>\n",
       "      <td>4</td>\n",
       "      <td>13</td>\n",
       "      <td>0</td>\n",
       "      <td>1380</td>\n",
       "    </tr>\n",
       "    <tr>\n",
       "      <th>1249797109382967296</th>\n",
       "      <td>18</td>\n",
       "      <td>#LambdaSchool</td>\n",
       "      <td>@Divvy_HQ</td>\n",
       "      <td>2</td>\n",
       "      <td>2</td>\n",
       "      <td>One of our 2019 grad Antonio Melendez, spent f...</td>\n",
       "      <td>None</td>\n",
       "      <td>http://bit.ly/39htNvO</td>\n",
       "      <td>2020</td>\n",
       "      <td>4</td>\n",
       "      <td>13</td>\n",
       "      <td>0</td>\n",
       "      <td>1230</td>\n",
       "    </tr>\n",
       "    <tr>\n",
       "      <th>1249456259503403013</th>\n",
       "      <td>14</td>\n",
       "      <td>#engineer</td>\n",
       "      <td></td>\n",
       "      <td>2</td>\n",
       "      <td>0</td>\n",
       "      <td>What do a software #engineer and a bodybuilder...</td>\n",
       "      <td>None</td>\n",
       "      <td>https://bit.ly/2U7AJqW</td>\n",
       "      <td>2020</td>\n",
       "      <td>4</td>\n",
       "      <td>12</td>\n",
       "      <td>6</td>\n",
       "      <td>1316</td>\n",
       "    </tr>\n",
       "    <tr>\n",
       "      <th>1249389342663065600</th>\n",
       "      <td>17</td>\n",
       "      <td></td>\n",
       "      <td></td>\n",
       "      <td>0</td>\n",
       "      <td>0</td>\n",
       "      <td>Happy Easter everyone These maybe difficult ti...</td>\n",
       "      <td>None</td>\n",
       "      <td></td>\n",
       "      <td>2020</td>\n",
       "      <td>4</td>\n",
       "      <td>12</td>\n",
       "      <td>6</td>\n",
       "      <td>1050</td>\n",
       "    </tr>\n",
       "  </tbody>\n",
       "</table>\n",
       "</div>"
      ],
      "text/plain": [
       "                     favorites                     hashtags  \\\n",
       "id                                                            \n",
       "1250084165405597702         16  #hired #SeeYourselfAtLambda   \n",
       "1249834817878986753         20      #RemoteLearning #Remote   \n",
       "1249797109382967296         18                #LambdaSchool   \n",
       "1249456259503403013         14                    #engineer   \n",
       "1249389342663065600         17                                \n",
       "\n",
       "                                                     mentions  replies  \\\n",
       "id                                                                       \n",
       "1250084165405597702  @Fidelity @ryanallred @rrherr @Jon_Cody_        0   \n",
       "1249834817878986753                                                  0   \n",
       "1249797109382967296                                 @Divvy_HQ        2   \n",
       "1249456259503403013                                                  2   \n",
       "1249389342663065600                                                  0   \n",
       "\n",
       "                     retweets  \\\n",
       "id                              \n",
       "1250084165405597702         2   \n",
       "1249834817878986753         3   \n",
       "1249797109382967296         2   \n",
       "1249456259503403013         0   \n",
       "1249389342663065600         0   \n",
       "\n",
       "                                                                  text    to  \\\n",
       "id                                                                             \n",
       "1250084165405597702  Congrats to Lambda grad Oscar Calzada for gett...  None   \n",
       "1249834817878986753  For large online lectures of 50+ students, how...  None   \n",
       "1249797109382967296  One of our 2019 grad Antonio Melendez, spent f...  None   \n",
       "1249456259503403013  What do a software #engineer and a bodybuilder...  None   \n",
       "1249389342663065600  Happy Easter everyone These maybe difficult ti...  None   \n",
       "\n",
       "                                       urls  year  month  day  day_of_week  \\\n",
       "id                                                                           \n",
       "1250084165405597702                          2020      4   14            1   \n",
       "1249834817878986753  https://bit.ly/3a4BghW  2020      4   13            0   \n",
       "1249797109382967296   http://bit.ly/39htNvO  2020      4   13            0   \n",
       "1249456259503403013  https://bit.ly/2U7AJqW  2020      4   12            6   \n",
       "1249389342663065600                          2020      4   12            6   \n",
       "\n",
       "                     minute_of_day  \n",
       "id                                  \n",
       "1250084165405597702            931  \n",
       "1249834817878986753           1380  \n",
       "1249797109382967296           1230  \n",
       "1249456259503403013           1316  \n",
       "1249389342663065600           1050  "
      ]
     },
     "execution_count": 13,
     "metadata": {},
     "output_type": "execute_result"
    }
   ],
   "source": [
    "df.head()"
   ]
  },
  {
   "cell_type": "code",
   "execution_count": 14,
   "metadata": {},
   "outputs": [],
   "source": [
    "# given a df\n",
    "# return a df with new, populated columns from mentions\n",
    "\n",
    "all_mentions = flatten_lists_one_layer(list(df['mentions'].str.split()))\n",
    "\n",
    "# def expand_hashtags(tweet_df):\n",
    "#     \"\"\"Modify the dataframe to include columns for each hashtag, \n",
    "#     like 'one-hot' encoding, but really 'n-hot' encoding.\"\"\"\n",
    "#     # get a list of unique values, for the entire df, of 'mentions'\n",
    "#     for m in all_mentions:\n",
    "#         tweet_df[m].apply(lambda x: if (x in df['mentions']): 1 else: 0)\n",
    "#     return tweet_df\n",
    "\n",
    "# expand_hashtags(df)"
   ]
  },
  {
   "cell_type": "code",
   "execution_count": 15,
   "metadata": {},
   "outputs": [],
   "source": [
    "# https://pandas.pydata.org/pandas-docs/stable/reference/api/pandas.DataFrame.loc.html/'/'"
   ]
  },
  {
   "cell_type": "code",
   "execution_count": 1,
   "metadata": {},
   "outputs": [
    {
     "ename": "NameError",
     "evalue": "name 'flatten_lists_one_layer' is not defined",
     "output_type": "error",
     "traceback": [
      "\u001b[0;31m---------------------------------------------------------------------------\u001b[0m",
      "\u001b[0;31mNameError\u001b[0m                                 Traceback (most recent call last)",
      "\u001b[0;32m<ipython-input-1-caf3db1b6cf3>\u001b[0m in \u001b[0;36m<module>\u001b[0;34m\u001b[0m\n\u001b[1;32m      4\u001b[0m \u001b[0;34m\u001b[0m\u001b[0m\n\u001b[1;32m      5\u001b[0m \u001b[0;31m# Create an n-hot encoding set of columns based on hashtags.\u001b[0m\u001b[0;34m\u001b[0m\u001b[0;34m\u001b[0m\u001b[0;34m\u001b[0m\u001b[0m\n\u001b[0;32m----> 6\u001b[0;31m \u001b[0;32mfor\u001b[0m \u001b[0mhashtag\u001b[0m \u001b[0;32min\u001b[0m \u001b[0mget_space_delimited\u001b[0m\u001b[0;34m(\u001b[0m\u001b[0;34m'hashtags'\u001b[0m\u001b[0;34m)\u001b[0m\u001b[0;34m:\u001b[0m\u001b[0;34m\u001b[0m\u001b[0;34m\u001b[0m\u001b[0m\n\u001b[0m\u001b[1;32m      7\u001b[0m     \u001b[0mdf\u001b[0m\u001b[0;34m.\u001b[0m\u001b[0mloc\u001b[0m\u001b[0;34m[\u001b[0m\u001b[0mdf\u001b[0m\u001b[0;34m[\u001b[0m\u001b[0;34m'hashtags'\u001b[0m\u001b[0;34m]\u001b[0m\u001b[0;34m.\u001b[0m\u001b[0mstr\u001b[0m\u001b[0;34m.\u001b[0m\u001b[0mcontains\u001b[0m\u001b[0;34m(\u001b[0m\u001b[0mhashtag\u001b[0m\u001b[0;34m)\u001b[0m\u001b[0;34m,\u001b[0m \u001b[0mhashtag\u001b[0m\u001b[0;34m]\u001b[0m \u001b[0;34m=\u001b[0m \u001b[0;36m1\u001b[0m\u001b[0;34m\u001b[0m\u001b[0;34m\u001b[0m\u001b[0m\n\u001b[1;32m      8\u001b[0m     \u001b[0mdf\u001b[0m\u001b[0;34m[\u001b[0m\u001b[0mhashtag\u001b[0m\u001b[0;34m]\u001b[0m\u001b[0;34m.\u001b[0m\u001b[0mfillna\u001b[0m\u001b[0;34m(\u001b[0m\u001b[0mvalue\u001b[0m\u001b[0;34m=\u001b[0m\u001b[0;36m0\u001b[0m\u001b[0;34m,\u001b[0m \u001b[0minplace\u001b[0m\u001b[0;34m=\u001b[0m\u001b[0;32mTrue\u001b[0m\u001b[0;34m)\u001b[0m\u001b[0;34m\u001b[0m\u001b[0;34m\u001b[0m\u001b[0m\n",
      "\u001b[0;32m<ipython-input-1-caf3db1b6cf3>\u001b[0m in \u001b[0;36mget_space_delimited\u001b[0;34m(col_name)\u001b[0m\n\u001b[1;32m      1\u001b[0m \u001b[0;32mdef\u001b[0m \u001b[0mget_space_delimited\u001b[0m\u001b[0;34m(\u001b[0m\u001b[0mcol_name\u001b[0m\u001b[0;34m)\u001b[0m\u001b[0;34m:\u001b[0m\u001b[0;34m\u001b[0m\u001b[0;34m\u001b[0m\u001b[0m\n\u001b[1;32m      2\u001b[0m     \u001b[0;34m\"\"\"Split a string on spaces, and return a list of the substrings.\"\"\"\u001b[0m\u001b[0;34m\u001b[0m\u001b[0;34m\u001b[0m\u001b[0m\n\u001b[0;32m----> 3\u001b[0;31m     \u001b[0;32mreturn\u001b[0m \u001b[0mflatten_lists_one_layer\u001b[0m\u001b[0;34m(\u001b[0m\u001b[0mlist\u001b[0m\u001b[0;34m(\u001b[0m\u001b[0mdf\u001b[0m\u001b[0;34m[\u001b[0m\u001b[0mcol_name\u001b[0m\u001b[0;34m]\u001b[0m\u001b[0;34m.\u001b[0m\u001b[0mstr\u001b[0m\u001b[0;34m.\u001b[0m\u001b[0msplit\u001b[0m\u001b[0;34m(\u001b[0m\u001b[0;34m)\u001b[0m\u001b[0;34m)\u001b[0m\u001b[0;34m)\u001b[0m\u001b[0;34m\u001b[0m\u001b[0;34m\u001b[0m\u001b[0m\n\u001b[0m\u001b[1;32m      4\u001b[0m \u001b[0;34m\u001b[0m\u001b[0m\n\u001b[1;32m      5\u001b[0m \u001b[0;31m# Create an n-hot encoding set of columns based on hashtags.\u001b[0m\u001b[0;34m\u001b[0m\u001b[0;34m\u001b[0m\u001b[0;34m\u001b[0m\u001b[0m\n",
      "\u001b[0;31mNameError\u001b[0m: name 'flatten_lists_one_layer' is not defined"
     ]
    }
   ],
   "source": [
    "def get_space_delimited(col_name):\n",
    "    \"\"\"Split a string on spaces, and return a list of the substrings.\"\"\"\n",
    "    return flatten_lists_one_layer(list(df[col_name].str.split()))\n",
    "\n",
    "# Create an n-hot encoding set of columns based on hashtags.    \n",
    "for hashtag in get_space_delimited('hashtags'):\n",
    "    df.loc[df['hashtags'].str.contains(hashtag), hashtag] = 1\n",
    "    df[hashtag].fillna(value=0, inplace=True)\n",
    "\n",
    "# Create an n-hot encoding set of columns based on mentions.    \n",
    "for mention in get_space_delimited('mentions'):\n",
    "    df.loc[df['mentions'].str.contains(mention), mention] = 1\n",
    "    df[mention].fillna(value=0, inplace=True)\n",
    "\n",
    "    \n",
    "# for this to work, need to replace None values with empty strings\n",
    "# df.loc['to'].fillna(value=\"\", inplace=True) \n",
    "# df.loc['to']\n",
    "# for to_val in get_space_delimited('to'):\n",
    "#     df.loc[df['to'].str.contains(to_val), to_val] = 1\n",
    "#     df[to_val].fillna(value=0, inplace=True)\n",
    "    \n",
    "    \n",
    "# text                 object\n",
    "# to                   object\n",
    "# urls                 object    \n",
    "    \n",
    "    \n",
    "    \n",
    "# df['#LambdaSchool']\n",
    "\n",
    "\n",
    "\n",
    "# # If Python had macros, it would work like\n",
    "\n",
    "\n",
    "# def blow_out_column(col_name):\n",
    "#     return (\"\"\"for newcol in get_space_delimited(\\'\"\"\" + col_name +\"\"\"')\n",
    "#     df.loc[df['\"\"\" + col_name + \"\"\"\\'].str.contains(newcol), newcol] = 1\n",
    "#     df[newcol].fillna(value=0, inplace=True)\"\"\")\n",
    "    \n",
    "## sample output\n",
    "# print(blow_out_column('to'))\n",
    "\n",
    "## for newcol in get_space_delimited('mentions')\n",
    "##     df.loc[df['mentions'].str.contains(newcol), newcol] = 1"
   ]
  },
  {
   "cell_type": "code",
   "execution_count": null,
   "metadata": {},
   "outputs": [],
   "source": [
    "df"
   ]
  },
  {
   "cell_type": "code",
   "execution_count": 17,
   "metadata": {},
   "outputs": [],
   "source": [
    "import basilica"
   ]
  },
  {
   "cell_type": "code",
   "execution_count": null,
   "metadata": {},
   "outputs": [],
   "source": [
    "sentences = [\n",
    "    \"This is a sentence!\",\n",
    "    \"This is a similar sentence!\",\n",
    "    \"I don't think this sentence is very similar at all...\",\n",
    "]\n",
    "with basilica.Connection('SLOW_DEMO_KEY') as c:\n",
    "    embeddings = list(c.embed_sentences(sentences))\n",
    "# print(embeddings)\n",
    "len(embeddings)"
   ]
  },
  {
   "cell_type": "code",
   "execution_count": null,
   "metadata": {},
   "outputs": [],
   "source": [
    "test_tweet\n"
   ]
  },
  {
   "cell_type": "code",
   "execution_count": null,
   "metadata": {},
   "outputs": [],
   "source": [
    "test_tweet.text"
   ]
  },
  {
   "cell_type": "code",
   "execution_count": null,
   "metadata": {},
   "outputs": [],
   "source": [
    "texts = [tweet.text for tweet in retrieved_tweets]"
   ]
  },
  {
   "cell_type": "code",
   "execution_count": null,
   "metadata": {},
   "outputs": [],
   "source": [
    "texts"
   ]
  },
  {
   "cell_type": "code",
   "execution_count": null,
   "metadata": {},
   "outputs": [],
   "source": [
    "with basilica.Connection('SLOW_DEMO_KEY') as c:\n",
    "    embeddings = list(c.embed_sentences(texts))"
   ]
  },
  {
   "cell_type": "code",
   "execution_count": 21,
   "metadata": {},
   "outputs": [
    {
     "ename": "ModuleNotFoundError",
     "evalue": "No module named 'sklearn'",
     "output_type": "error",
     "traceback": [
      "\u001b[0;31m---------------------------------------------------------------------------\u001b[0m",
      "\u001b[0;31mModuleNotFoundError\u001b[0m                       Traceback (most recent call last)",
      "\u001b[0;32m<ipython-input-21-b7c74cbf5af0>\u001b[0m in \u001b[0;36m<module>\u001b[0;34m\u001b[0m\n\u001b[0;32m----> 1\u001b[0;31m \u001b[0;32mimport\u001b[0m \u001b[0msklearn\u001b[0m\u001b[0;34m\u001b[0m\u001b[0;34m\u001b[0m\u001b[0m\n\u001b[0m",
      "\u001b[0;31mModuleNotFoundError\u001b[0m: No module named 'sklearn'"
     ]
    }
   ],
   "source": [
    "import sklearn"
   ]
  },
  {
   "cell_type": "code",
   "execution_count": null,
   "metadata": {},
   "outputs": [],
   "source": []
  }
 ],
 "metadata": {
  "kernelspec": {
   "display_name": "twitterscraper",
   "language": "python",
   "name": "twitterscraper"
  },
  "language_info": {
   "codemirror_mode": {
    "name": "ipython",
    "version": 3
   },
   "file_extension": ".py",
   "mimetype": "text/x-python",
   "name": "python",
   "nbconvert_exporter": "python",
   "pygments_lexer": "ipython3",
   "version": "3.7.6"
  }
 },
 "nbformat": 4,
 "nbformat_minor": 4
}
