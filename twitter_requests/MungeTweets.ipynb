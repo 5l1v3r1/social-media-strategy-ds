{
 "cells": [
  {
   "cell_type": "code",
   "execution_count": 1,
   "metadata": {},
   "outputs": [],
   "source": [
    "import GetOldTweets3 as got"
   ]
  },
  {
   "cell_type": "code",
   "execution_count": 2,
   "metadata": {},
   "outputs": [],
   "source": [
    "twitter_user_name = 'LambdaSchool'\n",
    "count = 20 # very small for efficiency during testing"
   ]
  },
  {
   "cell_type": "code",
   "execution_count": 3,
   "metadata": {},
   "outputs": [],
   "source": [
    "#  Create object to execute queries\n",
    "tweetGetter = got.manager.TweetCriteria().setUsername(twitter_user_name).setMaxTweets(count)"
   ]
  },
  {
   "cell_type": "code",
   "execution_count": 4,
   "metadata": {},
   "outputs": [],
   "source": [
    "retrieved_tweets = got.manager.TweetManager.getTweets(tweetGetter)"
   ]
  },
  {
   "cell_type": "code",
   "execution_count": 5,
   "metadata": {},
   "outputs": [],
   "source": [
    "# type(retrieved_tweets)"
   ]
  },
  {
   "cell_type": "code",
   "execution_count": 6,
   "metadata": {},
   "outputs": [],
   "source": [
    "test_tweet = retrieved_tweets[1]\n",
    "# type(test_tweet.urls)\n",
    "# \n",
    "# dir (test_tweet)"
   ]
  },
  {
   "cell_type": "code",
   "execution_count": 7,
   "metadata": {},
   "outputs": [],
   "source": [
    "def tweet_to_dict(twt):\n",
    "    \"\"\"Munges a twt object into a dict, using names of attributes of\n",
    "    object as keys in dict.\n",
    "    'favorites' is a count of 'likes'\n",
    "    'hashtags' is a string that is a space-separated series of hashtags\n",
    "    'mentions' is a string that is a space-separated series of ats (@s)\n",
    "    'urls' is a string that is a space-separated series of URLs\n",
    "    \"\"\"\n",
    "    return {'date' : twt.date\n",
    "            , 'favorites' : twt.favorites\n",
    "            , 'formatted_date' : twt.formatted_date\n",
    "            , 'geo' : twt.geo\n",
    "            , 'hashtags' : twt.hashtags\n",
    "            , 'id' : twt.id\n",
    "            , 'mentions' : twt.mentions\n",
    "            , 'permalink' : twt.permalink\n",
    "            , 'replies' : twt.replies\n",
    "            , 'retweets' : twt.retweets\n",
    "            , 'text' : twt.text\n",
    "            , 'to' : twt.to\n",
    "            , 'urls' : twt.urls\n",
    "            , 'username' : twt.username}   "
   ]
  },
  {
   "cell_type": "code",
   "execution_count": 8,
   "metadata": {},
   "outputs": [
    {
     "data": {
      "text/plain": [
       "{'year': 2020,\n",
       " 'month': 4,\n",
       " 'day': 11,\n",
       " 'day_of_week': 5,\n",
       " 'hour': 22,\n",
       " 'minute': 32,\n",
       " 'minute_of_day': 1352}"
      ]
     },
     "execution_count": 8,
     "metadata": {},
     "output_type": "execute_result"
    }
   ],
   "source": [
    "def munge_date(dt):\n",
    "    \"\"\"Munges a datetime.datetime object into a dict, using names of attributes of\n",
    "    object as keys in dict.\n",
    "    'day_of_week' is [0-7] with 0 being 'Monday'\n",
    "    'minute_of_day' is count of minutes from midnight\"\"\"\n",
    "    return {'year' : dt.year \n",
    "            , 'month' : dt.month\n",
    "            , 'day' : dt.day\n",
    "            , 'day_of_week' : dt.weekday()\n",
    "            , 'hour' : dt.hour\n",
    "            , 'minute' : dt.minute\n",
    "            , 'minute_of_day' : (60 * dt.hour) + dt.minute}\n",
    "munge_date(test_tweet.date)"
   ]
  },
  {
   "cell_type": "code",
   "execution_count": 9,
   "metadata": {},
   "outputs": [
    {
     "data": {
      "text/plain": [
       "{'date': datetime.datetime(2020, 4, 11, 22, 32, 2, tzinfo=datetime.timezone.utc),\n",
       " 'favorites': 24,\n",
       " 'formatted_date': 'Sat Apr 11 22:32:02 +0000 2020',\n",
       " 'geo': '',\n",
       " 'hashtags': '#LambdaSchool',\n",
       " 'id': '1249102938540093440',\n",
       " 'mentions': '@CapitalOne @amazon @Infosys @eBay @Cisco',\n",
       " 'permalink': 'https://twitter.com/LambdaSchool/status/1249102938540093440',\n",
       " 'replies': 1,\n",
       " 'retweets': 3,\n",
       " 'text': 'Of the 284 full-time #LambdaSchool students that graduated in H1 2019, the job placement rate was 71%. These graduates have been hired by over 150 employers, including @CapitalOne, @amazon, @Infosys, @eBay, @Cisco and more. Details: https://bit.ly/39htNvO',\n",
       " 'to': None,\n",
       " 'urls': 'https://bit.ly/39htNvO',\n",
       " 'username': 'LambdaSchool',\n",
       " 'year': 2020,\n",
       " 'month': 4,\n",
       " 'day': 11,\n",
       " 'day_of_week': 5,\n",
       " 'hour': 22,\n",
       " 'minute': 32,\n",
       " 'minute_of_day': 1352}"
      ]
     },
     "execution_count": 9,
     "metadata": {},
     "output_type": "execute_result"
    }
   ],
   "source": [
    "def munge_twt(twt):\n",
    "    return {**tweet_to_dict(twt), **munge_date(twt.date)}\n",
    "\n",
    "unge_twt(test_tweet)"
   ]
  },
  {
   "cell_type": "code",
   "execution_count": 10,
   "metadata": {},
   "outputs": [],
   "source": [
    "def remove_duplicates_from_list(l):\n",
    "    \"\"\"Stupid Python does not have this.\"\"\"\n",
    "    return list(set(l))\n",
    "\n",
    "def mapcar(func, lst):\n",
    "    \"\"\"Stupid Python does not have mapcar.\"\"\"\n",
    "    return list(map(func, lst))\n",
    "\n",
    "def flatten_lists_one_layer(ls):\n",
    "    from functools import reduce\n",
    "    \"\"\"Stupid Python does not have a built-in function to \n",
    "    join an arbitrary list of lists into one list.\"\"\"\n",
    "    return reduce(lambda accumulator, element: accumulator + element, ls, [])\n",
    "\n",
    "def join_list_of_dicts(dicts):\n",
    "    \"\"\"This is good. Thanks, Python!\"\"\"\n",
    "    return {key: val for dict in dicts for key, val in dict.items()}\n",
    " "
   ]
  },
  {
   "cell_type": "code",
   "execution_count": 11,
   "metadata": {},
   "outputs": [],
   "source": [
    "def list_of_tweets_hashtags(tweet_object):\n",
    "    \"\"\"NAIVE: assumes 'hashtags' is already a space-delimited\n",
    "    string of hashtags.\"\"\"\n",
    "    return tweet_object.hashtags.split()\n",
    "\n",
    "def list_of_tweets_mentions(tweet_object):\n",
    "    \"\"\"NAIVE: assumes 'mentions' is already a space-delimited\n",
    "    string of @phrases.\"\"\"\n",
    "    return tweet_object.mentions.split()\n",
    "\n",
    "all_hashtags = remove_duplicates_from_list(\n",
    "                    flatten_lists_one_layer(\n",
    "                        mapcar(list_of_tweets_hashtags, retrieved_tweets)))\n",
    "\n",
    "all_mentions = remove_duplicates_from_list(\n",
    "                    flatten_lists_one_layer(\n",
    "                        mapcar(list_of_tweets_mentions, retrieved_tweets)))\n"
   ]
  },
  {
   "cell_type": "code",
   "execution_count": 31,
   "metadata": {},
   "outputs": [],
   "source": [
    "import pandas as pd\n",
    "# import dictionary as dataframe\n",
    "# drop useless columns\n",
    "\n",
    "recs = list(map(munge_twt, retrieved_tweets))\n",
    "\n",
    "index_col_name = 'id'\n",
    "\n",
    "useless_columns = ['date', 'formatted_date', 'permalink', 'username', 'hour', 'minute', 'geo']\n",
    "\n",
    "df = pd.DataFrame.from_records(recs, index=index_col_name, exclude=useless_columns)"
   ]
  },
  {
   "cell_type": "code",
   "execution_count": 33,
   "metadata": {},
   "outputs": [
    {
     "data": {
      "text/html": [
       "<div>\n",
       "<style scoped>\n",
       "    .dataframe tbody tr th:only-of-type {\n",
       "        vertical-align: middle;\n",
       "    }\n",
       "\n",
       "    .dataframe tbody tr th {\n",
       "        vertical-align: top;\n",
       "    }\n",
       "\n",
       "    .dataframe thead th {\n",
       "        text-align: right;\n",
       "    }\n",
       "</style>\n",
       "<table border=\"1\" class=\"dataframe\">\n",
       "  <thead>\n",
       "    <tr style=\"text-align: right;\">\n",
       "      <th></th>\n",
       "      <th>favorites</th>\n",
       "      <th>hashtags</th>\n",
       "      <th>mentions</th>\n",
       "      <th>replies</th>\n",
       "      <th>retweets</th>\n",
       "      <th>text</th>\n",
       "      <th>to</th>\n",
       "      <th>urls</th>\n",
       "      <th>year</th>\n",
       "      <th>month</th>\n",
       "      <th>day</th>\n",
       "      <th>day_of_week</th>\n",
       "      <th>minute_of_day</th>\n",
       "    </tr>\n",
       "    <tr>\n",
       "      <th>id</th>\n",
       "      <th></th>\n",
       "      <th></th>\n",
       "      <th></th>\n",
       "      <th></th>\n",
       "      <th></th>\n",
       "      <th></th>\n",
       "      <th></th>\n",
       "      <th></th>\n",
       "      <th></th>\n",
       "      <th></th>\n",
       "      <th></th>\n",
       "      <th></th>\n",
       "      <th></th>\n",
       "    </tr>\n",
       "  </thead>\n",
       "  <tbody>\n",
       "    <tr>\n",
       "      <th>1249389342663065600</th>\n",
       "      <td>15</td>\n",
       "      <td></td>\n",
       "      <td></td>\n",
       "      <td>0</td>\n",
       "      <td>0</td>\n",
       "      <td>Happy Easter everyone These maybe difficult ti...</td>\n",
       "      <td>None</td>\n",
       "      <td></td>\n",
       "      <td>2020</td>\n",
       "      <td>4</td>\n",
       "      <td>12</td>\n",
       "      <td>6</td>\n",
       "      <td>1050</td>\n",
       "    </tr>\n",
       "    <tr>\n",
       "      <th>1249102938540093440</th>\n",
       "      <td>24</td>\n",
       "      <td>#LambdaSchool</td>\n",
       "      <td>@CapitalOne @amazon @Infosys @eBay @Cisco</td>\n",
       "      <td>1</td>\n",
       "      <td>3</td>\n",
       "      <td>Of the 284 full-time #LambdaSchool students th...</td>\n",
       "      <td>None</td>\n",
       "      <td>https://bit.ly/39htNvO</td>\n",
       "      <td>2020</td>\n",
       "      <td>4</td>\n",
       "      <td>11</td>\n",
       "      <td>5</td>\n",
       "      <td>1352</td>\n",
       "    </tr>\n",
       "    <tr>\n",
       "      <th>1249029951602425857</th>\n",
       "      <td>11</td>\n",
       "      <td>#datascience #tech</td>\n",
       "      <td></td>\n",
       "      <td>1</td>\n",
       "      <td>0</td>\n",
       "      <td>Shout out to Ofer Barav, #datascience student ...</td>\n",
       "      <td>None</td>\n",
       "      <td>https://bit.ly/2xcMwv4</td>\n",
       "      <td>2020</td>\n",
       "      <td>4</td>\n",
       "      <td>11</td>\n",
       "      <td>5</td>\n",
       "      <td>1062</td>\n",
       "    </tr>\n",
       "    <tr>\n",
       "      <th>1248781591553298432</th>\n",
       "      <td>10</td>\n",
       "      <td>#C2CPodcast</td>\n",
       "      <td></td>\n",
       "      <td>0</td>\n",
       "      <td>2</td>\n",
       "      <td>“When you develop and take care of the [studen...</td>\n",
       "      <td>bevylabs</td>\n",
       "      <td>https://twitter.com/bevylabs/status/1248725936...</td>\n",
       "      <td>2020</td>\n",
       "      <td>4</td>\n",
       "      <td>11</td>\n",
       "      <td>5</td>\n",
       "      <td>75</td>\n",
       "    </tr>\n",
       "    <tr>\n",
       "      <th>1248719916955549701</th>\n",
       "      <td>39</td>\n",
       "      <td>#job #tech</td>\n",
       "      <td>@businessinsider</td>\n",
       "      <td>5</td>\n",
       "      <td>5</td>\n",
       "      <td>.@businessinsider lists Lambda School in the 1...</td>\n",
       "      <td>None</td>\n",
       "      <td>https://bit.ly/2UUJeWS</td>\n",
       "      <td>2020</td>\n",
       "      <td>4</td>\n",
       "      <td>10</td>\n",
       "      <td>4</td>\n",
       "      <td>1270</td>\n",
       "    </tr>\n",
       "  </tbody>\n",
       "</table>\n",
       "</div>"
      ],
      "text/plain": [
       "                     favorites            hashtags  \\\n",
       "id                                                   \n",
       "1249389342663065600         15                       \n",
       "1249102938540093440         24       #LambdaSchool   \n",
       "1249029951602425857         11  #datascience #tech   \n",
       "1248781591553298432         10         #C2CPodcast   \n",
       "1248719916955549701         39          #job #tech   \n",
       "\n",
       "                                                      mentions  replies  \\\n",
       "id                                                                        \n",
       "1249389342663065600                                                   0   \n",
       "1249102938540093440  @CapitalOne @amazon @Infosys @eBay @Cisco        1   \n",
       "1249029951602425857                                                   1   \n",
       "1248781591553298432                                                   0   \n",
       "1248719916955549701                           @businessinsider        5   \n",
       "\n",
       "                     retweets  \\\n",
       "id                              \n",
       "1249389342663065600         0   \n",
       "1249102938540093440         3   \n",
       "1249029951602425857         0   \n",
       "1248781591553298432         2   \n",
       "1248719916955549701         5   \n",
       "\n",
       "                                                                  text  \\\n",
       "id                                                                       \n",
       "1249389342663065600  Happy Easter everyone These maybe difficult ti...   \n",
       "1249102938540093440  Of the 284 full-time #LambdaSchool students th...   \n",
       "1249029951602425857  Shout out to Ofer Barav, #datascience student ...   \n",
       "1248781591553298432  “When you develop and take care of the [studen...   \n",
       "1248719916955549701  .@businessinsider lists Lambda School in the 1...   \n",
       "\n",
       "                           to  \\\n",
       "id                              \n",
       "1249389342663065600      None   \n",
       "1249102938540093440      None   \n",
       "1249029951602425857      None   \n",
       "1248781591553298432  bevylabs   \n",
       "1248719916955549701      None   \n",
       "\n",
       "                                                                  urls  year  \\\n",
       "id                                                                             \n",
       "1249389342663065600                                                     2020   \n",
       "1249102938540093440                             https://bit.ly/39htNvO  2020   \n",
       "1249029951602425857                             https://bit.ly/2xcMwv4  2020   \n",
       "1248781591553298432  https://twitter.com/bevylabs/status/1248725936...  2020   \n",
       "1248719916955549701                             https://bit.ly/2UUJeWS  2020   \n",
       "\n",
       "                     month  day  day_of_week  minute_of_day  \n",
       "id                                                           \n",
       "1249389342663065600      4   12            6           1050  \n",
       "1249102938540093440      4   11            5           1352  \n",
       "1249029951602425857      4   11            5           1062  \n",
       "1248781591553298432      4   11            5             75  \n",
       "1248719916955549701      4   10            4           1270  "
      ]
     },
     "execution_count": 33,
     "metadata": {},
     "output_type": "execute_result"
    }
   ],
   "source": [
    "df.head()"
   ]
  },
  {
   "cell_type": "code",
   "execution_count": 39,
   "metadata": {},
   "outputs": [],
   "source": [
    "s = \"hello there\"\n",
    "cols = s.split()\n",
    "foo = pd.DataFrame(columns=cols)"
   ]
  },
  {
   "cell_type": "code",
   "execution_count": 40,
   "metadata": {},
   "outputs": [
    {
     "data": {
      "text/html": [
       "<div>\n",
       "<style scoped>\n",
       "    .dataframe tbody tr th:only-of-type {\n",
       "        vertical-align: middle;\n",
       "    }\n",
       "\n",
       "    .dataframe tbody tr th {\n",
       "        vertical-align: top;\n",
       "    }\n",
       "\n",
       "    .dataframe thead th {\n",
       "        text-align: right;\n",
       "    }\n",
       "</style>\n",
       "<table border=\"1\" class=\"dataframe\">\n",
       "  <thead>\n",
       "    <tr style=\"text-align: right;\">\n",
       "      <th></th>\n",
       "      <th>hello</th>\n",
       "      <th>there</th>\n",
       "    </tr>\n",
       "  </thead>\n",
       "  <tbody>\n",
       "  </tbody>\n",
       "</table>\n",
       "</div>"
      ],
      "text/plain": [
       "Empty DataFrame\n",
       "Columns: [hello, there]\n",
       "Index: []"
      ]
     },
     "execution_count": 40,
     "metadata": {},
     "output_type": "execute_result"
    }
   ],
   "source": [
    "foo"
   ]
  },
  {
   "cell_type": "code",
   "execution_count": null,
   "metadata": {},
   "outputs": [],
   "source": []
  }
 ],
 "metadata": {
  "kernelspec": {
   "display_name": "twitterscraper",
   "language": "python",
   "name": "twitterscraper"
  },
  "language_info": {
   "codemirror_mode": {
    "name": "ipython",
    "version": 3
   },
   "file_extension": ".py",
   "mimetype": "text/x-python",
   "name": "python",
   "nbconvert_exporter": "python",
   "pygments_lexer": "ipython3",
   "version": "3.7.6"
  }
 },
 "nbformat": 4,
 "nbformat_minor": 4
}
