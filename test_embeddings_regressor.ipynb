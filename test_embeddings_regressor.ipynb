{
 "cells": [
  {
   "cell_type": "markdown",
   "metadata": {},
   "source": [
    "# Train a regressor on a set of embeddings of tweet texts\n",
    "\n",
    "Use **GetOldTweets3** library (available via Pypi)"
   ]
  },
  {
   "cell_type": "code",
   "execution_count": 1,
   "metadata": {},
   "outputs": [
    {
     "name": "stdout",
     "output_type": "stream",
     "text": [
      "Requirement already satisfied: GetOldTweets3 in /home/gt/.local/share/virtualenvs/twitter_requests-fGce0hnx/lib/python3.7/site-packages (0.0.11)\n",
      "Requirement already satisfied: lxml>=3.5.0 in /home/gt/.local/share/virtualenvs/twitter_requests-fGce0hnx/lib/python3.7/site-packages (from GetOldTweets3) (4.5.0)\n",
      "Requirement already satisfied: pyquery>=1.2.10 in /home/gt/.local/share/virtualenvs/twitter_requests-fGce0hnx/lib/python3.7/site-packages (from GetOldTweets3) (1.4.1)\n",
      "Requirement already satisfied: cssselect>0.7.9 in /home/gt/.local/share/virtualenvs/twitter_requests-fGce0hnx/lib/python3.7/site-packages (from pyquery>=1.2.10->GetOldTweets3) (1.1.0)\n"
     ]
    }
   ],
   "source": [
    "!pip install GetOldTweets3\n",
    "import GetOldTweets3 as got"
   ]
  },
  {
   "cell_type": "code",
   "execution_count": 2,
   "metadata": {},
   "outputs": [],
   "source": [
    "# !pip install basilica # might have to install, if not available in underlying environment"
   ]
  },
  {
   "cell_type": "code",
   "execution_count": 3,
   "metadata": {},
   "outputs": [],
   "source": [
    "import pandas as pd\n",
    "import json\n",
    "import numpy as np\n",
    "import sklearn.linear_model\n",
    "import sklearn.preprocessing\n",
    "import sklearn.decomposition\n",
    "import basilica"
   ]
  },
  {
   "cell_type": "code",
   "execution_count": 4,
   "metadata": {},
   "outputs": [],
   "source": [
    "twitter_user_name = 'LambdaSchool'\n",
    "count = 1000 # during testing"
   ]
  },
  {
   "cell_type": "code",
   "execution_count": 5,
   "metadata": {},
   "outputs": [],
   "source": [
    "#  Create object to execute queries\n",
    "querySpecs = got.manager.TweetCriteria().setUsername(twitter_user_name).setMaxTweets(count)"
   ]
  },
  {
   "cell_type": "code",
   "execution_count": 6,
   "metadata": {},
   "outputs": [
    {
     "data": {
      "text/plain": [
       "1000"
      ]
     },
     "execution_count": 6,
     "metadata": {},
     "output_type": "execute_result"
    }
   ],
   "source": [
    "# get a set of tweets\n",
    "retrieved_tweets = got.manager.TweetManager.getTweets(querySpecs)\n",
    "len(retrieved_tweets)"
   ]
  },
  {
   "cell_type": "code",
   "execution_count": 7,
   "metadata": {},
   "outputs": [],
   "source": [
    "def tweet_to_dict(twt):\n",
    "    \"\"\"Munges a twt object into a dict, using names of attributes of\n",
    "    object as keys in dict.\n",
    "    'favorites' is a count of 'likes'\n",
    "    'hashtags' is a string that is a space-separated series of hashtags\n",
    "    'mentions' is a string that is a space-separated series of ats (@s)\n",
    "    'urls' is a string that is a space-separated series of URLs\n",
    "    \"\"\"\n",
    "    return {'date' : twt.date\n",
    "            , 'favorites' : twt.favorites\n",
    "            , 'formatted_date' : twt.formatted_date\n",
    "            , 'geo' : twt.geo\n",
    "            , 'hashtags' : twt.hashtags\n",
    "            , 'id' : twt.id\n",
    "            , 'mentions' : twt.mentions\n",
    "            , 'permalink' : twt.permalink\n",
    "            , 'replies' : twt.replies\n",
    "            , 'retweets' : twt.retweets\n",
    "            , 'text' : twt.text\n",
    "            , 'to' : twt.to\n",
    "            , 'urls' : twt.urls\n",
    "            , 'username' : twt.username}   "
   ]
  },
  {
   "cell_type": "code",
   "execution_count": 8,
   "metadata": {},
   "outputs": [
    {
     "data": {
      "text/html": [
       "<div>\n",
       "<style scoped>\n",
       "    .dataframe tbody tr th:only-of-type {\n",
       "        vertical-align: middle;\n",
       "    }\n",
       "\n",
       "    .dataframe tbody tr th {\n",
       "        vertical-align: top;\n",
       "    }\n",
       "\n",
       "    .dataframe thead th {\n",
       "        text-align: right;\n",
       "    }\n",
       "</style>\n",
       "<table border=\"1\" class=\"dataframe\">\n",
       "  <thead>\n",
       "    <tr style=\"text-align: right;\">\n",
       "      <th></th>\n",
       "      <th>date</th>\n",
       "      <th>favorites</th>\n",
       "      <th>formatted_date</th>\n",
       "      <th>geo</th>\n",
       "      <th>hashtags</th>\n",
       "      <th>id</th>\n",
       "      <th>mentions</th>\n",
       "      <th>permalink</th>\n",
       "      <th>replies</th>\n",
       "      <th>retweets</th>\n",
       "      <th>text</th>\n",
       "      <th>to</th>\n",
       "      <th>urls</th>\n",
       "      <th>username</th>\n",
       "    </tr>\n",
       "  </thead>\n",
       "  <tbody>\n",
       "    <tr>\n",
       "      <th>0</th>\n",
       "      <td>2020-04-15 15:30:11+00:00</td>\n",
       "      <td>4</td>\n",
       "      <td>Wed Apr 15 15:30:11 +0000 2020</td>\n",
       "      <td></td>\n",
       "      <td></td>\n",
       "      <td>1250446327902863361</td>\n",
       "      <td></td>\n",
       "      <td>https://twitter.com/LambdaSchool/status/125044...</td>\n",
       "      <td>0</td>\n",
       "      <td>2</td>\n",
       "      <td>Prepare yourself for success by attending Lamb...</td>\n",
       "      <td>None</td>\n",
       "      <td>https://bit.ly/34nvh6K</td>\n",
       "      <td>LambdaSchool</td>\n",
       "    </tr>\n",
       "    <tr>\n",
       "      <th>1</th>\n",
       "      <td>2020-04-14 18:55:02+00:00</td>\n",
       "      <td>4</td>\n",
       "      <td>Tue Apr 14 18:55:02 +0000 2020</td>\n",
       "      <td></td>\n",
       "      <td>#RemoteLearning #Remote</td>\n",
       "      <td>1250135493662171136</td>\n",
       "      <td></td>\n",
       "      <td>https://twitter.com/LambdaSchool/status/125013...</td>\n",
       "      <td>0</td>\n",
       "      <td>2</td>\n",
       "      <td>Tune in tomorrow at 11 am PT to hear how Lambd...</td>\n",
       "      <td>None</td>\n",
       "      <td>https://bit.ly/3a4BghW</td>\n",
       "      <td>LambdaSchool</td>\n",
       "    </tr>\n",
       "    <tr>\n",
       "      <th>2</th>\n",
       "      <td>2020-04-14 15:31:05+00:00</td>\n",
       "      <td>25</td>\n",
       "      <td>Tue Apr 14 15:31:05 +0000 2020</td>\n",
       "      <td></td>\n",
       "      <td>#hired #SeeYourselfAtLambda</td>\n",
       "      <td>1250084165405597702</td>\n",
       "      <td>@Fidelity @ryanallred @rrherr @Jon_Cody_</td>\n",
       "      <td>https://twitter.com/LambdaSchool/status/125008...</td>\n",
       "      <td>0</td>\n",
       "      <td>4</td>\n",
       "      <td>Congrats to Lambda grad Oscar Calzada for gett...</td>\n",
       "      <td>None</td>\n",
       "      <td></td>\n",
       "      <td>LambdaSchool</td>\n",
       "    </tr>\n",
       "    <tr>\n",
       "      <th>3</th>\n",
       "      <td>2020-04-13 23:00:16+00:00</td>\n",
       "      <td>20</td>\n",
       "      <td>Mon Apr 13 23:00:16 +0000 2020</td>\n",
       "      <td></td>\n",
       "      <td>#RemoteLearning #Remote</td>\n",
       "      <td>1249834817878986753</td>\n",
       "      <td></td>\n",
       "      <td>https://twitter.com/LambdaSchool/status/124983...</td>\n",
       "      <td>0</td>\n",
       "      <td>3</td>\n",
       "      <td>For large online lectures of 50+ students, how...</td>\n",
       "      <td>None</td>\n",
       "      <td>https://bit.ly/3a4BghW</td>\n",
       "      <td>LambdaSchool</td>\n",
       "    </tr>\n",
       "    <tr>\n",
       "      <th>4</th>\n",
       "      <td>2020-04-13 20:30:25+00:00</td>\n",
       "      <td>19</td>\n",
       "      <td>Mon Apr 13 20:30:25 +0000 2020</td>\n",
       "      <td></td>\n",
       "      <td>#LambdaSchool</td>\n",
       "      <td>1249797109382967296</td>\n",
       "      <td>@Divvy_HQ</td>\n",
       "      <td>https://twitter.com/LambdaSchool/status/124979...</td>\n",
       "      <td>2</td>\n",
       "      <td>2</td>\n",
       "      <td>One of our 2019 grad Antonio Melendez, spent f...</td>\n",
       "      <td>None</td>\n",
       "      <td>http://bit.ly/39htNvO</td>\n",
       "      <td>LambdaSchool</td>\n",
       "    </tr>\n",
       "  </tbody>\n",
       "</table>\n",
       "</div>"
      ],
      "text/plain": [
       "                       date  favorites                  formatted_date geo  \\\n",
       "0 2020-04-15 15:30:11+00:00          4  Wed Apr 15 15:30:11 +0000 2020       \n",
       "1 2020-04-14 18:55:02+00:00          4  Tue Apr 14 18:55:02 +0000 2020       \n",
       "2 2020-04-14 15:31:05+00:00         25  Tue Apr 14 15:31:05 +0000 2020       \n",
       "3 2020-04-13 23:00:16+00:00         20  Mon Apr 13 23:00:16 +0000 2020       \n",
       "4 2020-04-13 20:30:25+00:00         19  Mon Apr 13 20:30:25 +0000 2020       \n",
       "\n",
       "                      hashtags                   id  \\\n",
       "0                               1250446327902863361   \n",
       "1      #RemoteLearning #Remote  1250135493662171136   \n",
       "2  #hired #SeeYourselfAtLambda  1250084165405597702   \n",
       "3      #RemoteLearning #Remote  1249834817878986753   \n",
       "4                #LambdaSchool  1249797109382967296   \n",
       "\n",
       "                                   mentions  \\\n",
       "0                                             \n",
       "1                                             \n",
       "2  @Fidelity @ryanallred @rrherr @Jon_Cody_   \n",
       "3                                             \n",
       "4                                 @Divvy_HQ   \n",
       "\n",
       "                                           permalink  replies  retweets  \\\n",
       "0  https://twitter.com/LambdaSchool/status/125044...        0         2   \n",
       "1  https://twitter.com/LambdaSchool/status/125013...        0         2   \n",
       "2  https://twitter.com/LambdaSchool/status/125008...        0         4   \n",
       "3  https://twitter.com/LambdaSchool/status/124983...        0         3   \n",
       "4  https://twitter.com/LambdaSchool/status/124979...        2         2   \n",
       "\n",
       "                                                text    to  \\\n",
       "0  Prepare yourself for success by attending Lamb...  None   \n",
       "1  Tune in tomorrow at 11 am PT to hear how Lambd...  None   \n",
       "2  Congrats to Lambda grad Oscar Calzada for gett...  None   \n",
       "3  For large online lectures of 50+ students, how...  None   \n",
       "4  One of our 2019 grad Antonio Melendez, spent f...  None   \n",
       "\n",
       "                     urls      username  \n",
       "0  https://bit.ly/34nvh6K  LambdaSchool  \n",
       "1  https://bit.ly/3a4BghW  LambdaSchool  \n",
       "2                          LambdaSchool  \n",
       "3  https://bit.ly/3a4BghW  LambdaSchool  \n",
       "4   http://bit.ly/39htNvO  LambdaSchool  "
      ]
     },
     "execution_count": 8,
     "metadata": {},
     "output_type": "execute_result"
    }
   ],
   "source": [
    "df=pd.DataFrame(list(map(tweet_to_dict, retrieved_tweets)))\n",
    "df.head()"
   ]
  },
  {
   "cell_type": "code",
   "execution_count": 9,
   "metadata": {},
   "outputs": [],
   "source": [
    "# df.head()"
   ]
  },
  {
   "cell_type": "code",
   "execution_count": 10,
   "metadata": {},
   "outputs": [
    {
     "data": {
      "text/plain": [
       "1000"
      ]
     },
     "execution_count": 10,
     "metadata": {},
     "output_type": "execute_result"
    }
   ],
   "source": [
    "# we only need the texts for making embeddings\n",
    "test_texts = [tweet.text for tweet in retrieved_tweets]\n",
    "len(test_texts)"
   ]
  },
  {
   "cell_type": "code",
   "execution_count": 12,
   "metadata": {},
   "outputs": [
    {
     "data": {
      "text/plain": [
       "1000"
      ]
     },
     "execution_count": 12,
     "metadata": {},
     "output_type": "execute_result"
    }
   ],
   "source": [
    "API_KEY = \n",
    "# get a real one\n",
    "# API_KEY = 'SLOW_DEMO_KEY'\n",
    "\n",
    "\n",
    "\n",
    "# volume of use of this is monitored by basilica, especially when usinf 'SLOW_DEMO_KEY'\n",
    "# uncomment and run only when needed\n",
    "\n",
    "\n",
    "with basilica.Connection(API_KEY) as c:\n",
    "    embeddings = list(c.embed_sentences(test_texts))\n",
    "    \n",
    "len(embeddings)"
   ]
  },
  {
   "cell_type": "code",
   "execution_count": 13,
   "metadata": {},
   "outputs": [
    {
     "data": {
      "text/plain": [
       "(1000, 768)"
      ]
     },
     "execution_count": 13,
     "metadata": {},
     "output_type": "execute_result"
    }
   ],
   "source": [
    "# Normalize to help regressor work better\n",
    "normalized_embeddings = sklearn.preprocessing.normalize(embeddings)\n",
    "len(normalized_embeddings)\n",
    "# normalized_embeddings[0]\n",
    "\n",
    "# put the normalized embeddings back in a dataframe\n",
    "normalized_embeddings_df = pd.DataFrame(normalized_embeddings)\n",
    "# PCA the embeddings\n",
    "# sklearn.get_config()\n",
    "normalized_embeddings_df.shape"
   ]
  },
  {
   "cell_type": "markdown",
   "metadata": {},
   "source": [
    "## Split into X matrix (embeddings) and y vector (retweet count)"
   ]
  },
  {
   "cell_type": "code",
   "execution_count": 23,
   "metadata": {},
   "outputs": [
    {
     "name": "stdout",
     "output_type": "stream",
     "text": [
      "(1000,)\n",
      "False    1000\n",
      "Name: retweets, dtype: int64\n",
      "(1000,)\n",
      "False    1000\n",
      "Name: favorites, dtype: int64\n"
     ]
    }
   ],
   "source": [
    "X = normalized_embeddings_df\n",
    "\n",
    "y_retweets =df['retweets']\n",
    "print(y_retweets.shape)\n",
    "print(y_retweets.isna().value_counts())\n",
    "\n",
    "y_likes =df['favorites']\n",
    "print(y_likes.shape)\n",
    "print(y_likes.isna().value_counts())"
   ]
  },
  {
   "cell_type": "code",
   "execution_count": 15,
   "metadata": {},
   "outputs": [
    {
     "name": "stdout",
     "output_type": "stream",
     "text": [
      "(1000, 768)\n"
     ]
    }
   ],
   "source": [
    "print(X.shape)"
   ]
  },
  {
   "cell_type": "markdown",
   "metadata": {},
   "source": [
    "## Training a regressor"
   ]
  },
  {
   "cell_type": "code",
   "execution_count": null,
   "metadata": {},
   "outputs": [],
   "source": [
    "# import numpy as np\n",
    "# import sklearn.linear_model\n",
    "# import sklearn.preprocessing\n",
    "# import sklearn.model_selection"
   ]
  },
  {
   "cell_type": "code",
   "execution_count": 27,
   "metadata": {},
   "outputs": [
    {
     "data": {
      "text/plain": [
       "LogisticRegression(C=1.0, class_weight=None, dual=False, fit_intercept=True,\n",
       "                   intercept_scaling=1, l1_ratio=None, max_iter=1000,\n",
       "                   multi_class='auto', n_jobs=None, penalty='l2',\n",
       "                   random_state=None, solver='lbfgs', tol=0.0001, verbose=0,\n",
       "                   warm_start=False)"
      ]
     },
     "execution_count": 27,
     "metadata": {},
     "output_type": "execute_result"
    }
   ],
   "source": [
    "X_train, X_test = sklearn.model_selection.train_test_split(X, random_state=72)\n",
    "y_retweets_train, y_retweets_test = sklearn.model_selection.train_test_split(y_retweets, random_state=72)\n",
    "\n",
    "\n",
    "y_likes_train, y_likes_test = sklearn.model_selection.train_test_split(y_likes, random_state=72)\n",
    "\n",
    "\n",
    "retweets_model = sklearn.linear_model.LogisticRegression(max_iter=1000)\n",
    "retweets_model.fit(X_train, y_retweets_train)\n"
   ]
  },
  {
   "cell_type": "code",
   "execution_count": 28,
   "metadata": {},
   "outputs": [
    {
     "data": {
      "text/plain": [
       "LogisticRegression(C=1.0, class_weight=None, dual=False, fit_intercept=True,\n",
       "                   intercept_scaling=1, l1_ratio=None, max_iter=1000,\n",
       "                   multi_class='auto', n_jobs=None, penalty='l2',\n",
       "                   random_state=None, solver='lbfgs', tol=0.0001, verbose=0,\n",
       "                   warm_start=False)"
      ]
     },
     "execution_count": 28,
     "metadata": {},
     "output_type": "execute_result"
    }
   ],
   "source": [
    "\n",
    "likes_model = sklearn.linear_model.LogisticRegression(max_iter=1000)\n",
    "likes_model.fit(X_train, y_likes_train)"
   ]
  },
  {
   "cell_type": "markdown",
   "metadata": {},
   "source": [
    "## Results"
   ]
  },
  {
   "cell_type": "code",
   "execution_count": 30,
   "metadata": {},
   "outputs": [
    {
     "name": "stdout",
     "output_type": "stream",
     "text": [
      "Retweets Train accuracy: 0.336\n",
      "Retweets Test accuracy: 0.272\n",
      "Likes Train accuracy: 0.128\n",
      "Likes Test accuracy: 0.088\n"
     ]
    }
   ],
   "source": [
    "print('Retweets Train accuracy: %.3f' % retweets_model.score(X_train, y_retweets_train))\n",
    "print('Retweets Test accuracy: %.3f' % retweets_model.score(X_test, y_retweets_test))\n",
    "\n",
    "print('Likes Train accuracy: %.3f' % likes_model.score(X_train, y_likes_train))\n",
    "print('Likes Test accuracy: %.3f' % likes_model.score(X_test, y_likes_test))"
   ]
  },
  {
   "cell_type": "code",
   "execution_count": null,
   "metadata": {},
   "outputs": [],
   "source": [
    "# y_retweets[0:10]"
   ]
  },
  {
   "cell_type": "code",
   "execution_count": 54,
   "metadata": {},
   "outputs": [
    {
     "name": "stdout",
     "output_type": "stream",
     "text": [
      "(('predicted retweets', 2), 'actual', 4)\n",
      "(('predicted likes', 25), 'actual', 25)\n"
     ]
    }
   ],
   "source": [
    "def predict_retweets_one_embedding(embdng):\n",
    "    \"\"\"Use model to predict based on one embedding.\"\"\"\n",
    "    return ('predicted retweets', retweets_model.predict([embdng])[0])\n",
    "\n",
    "def predict_retweets_one_by_index(embeddings, idx):\n",
    "    \"\"\"Use model to predict based on one embedding,\n",
    "    selected by index from a list of embeddings.\"\"\"\n",
    "    return (predict_retweets_one_embedding(embeddings[idx]), 'actual', y_retweets[idx])\n",
    "\n",
    "\n",
    "def predict_likes_one_embedding(embdng):\n",
    "    \"\"\"Use model to predict based on one embedding.\"\"\"\n",
    "    return ('predicted likes', likes_model.predict([embdng])[0])\n",
    "\n",
    "def predict_likes_one_by_index(embeddings, idx):\n",
    "    \"\"\"Use model to predict based on one embedding,\n",
    "    selected by index from a list of embeddings.\"\"\"\n",
    "    return (predict_likes_one_embedding(embeddings[idx]), 'actual', y_likes[idx])\n",
    "\n",
    "print(predict_retweets_one_by_index(embeddings,2))\n",
    "\n",
    "print(predict_likes_one_by_index(embeddings,2))"
   ]
  },
  {
   "cell_type": "code",
   "execution_count": null,
   "metadata": {},
   "outputs": [],
   "source": []
  }
 ],
 "metadata": {
  "kernelspec": {
   "display_name": "Python 3",
   "language": "python",
   "name": "python3"
  },
  "language_info": {
   "codemirror_mode": {
    "name": "ipython",
    "version": 3
   },
   "file_extension": ".py",
   "mimetype": "text/x-python",
   "name": "python",
   "nbconvert_exporter": "python",
   "pygments_lexer": "ipython3",
   "version": "3.7.6"
  }
 },
 "nbformat": 4,
 "nbformat_minor": 4
}
